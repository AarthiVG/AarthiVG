{
 "cells": [
  {
   "cell_type": "code",
   "execution_count": 1,
   "metadata": {},
   "outputs": [],
   "source": [
    "import numpy as np\n",
    "import pandas as pd\n",
    "import seaborn as sns\n",
    "import matplotlib.pyplot as plt\n",
    "import warnings\n",
    "warnings.filterwarnings('ignore')\n",
    "from sklearn.model_selection import train_test_split, GridSearchCV, cross_val_score, RandomizedSearchCV\n",
    "from sklearn.preprocessing import StandardScaler\n",
    "from sklearn.metrics import accuracy_score, confusion_matrix, classification_report, roc_auc_score, roc_curve,precision_recall_curve\n",
    "from sklearn.tree import DecisionTreeClassifier\n",
    "from sklearn.ensemble import RandomForestClassifier"
   ]
  },
  {
   "cell_type": "code",
   "execution_count": 311,
   "metadata": {},
   "outputs": [],
   "source": [
    "train= pd.read_csv('train.csv')"
   ]
  },
  {
   "cell_type": "code",
   "execution_count": 312,
   "metadata": {},
   "outputs": [
    {
     "data": {
      "text/html": [
       "<div>\n",
       "<style scoped>\n",
       "    .dataframe tbody tr th:only-of-type {\n",
       "        vertical-align: middle;\n",
       "    }\n",
       "\n",
       "    .dataframe tbody tr th {\n",
       "        vertical-align: top;\n",
       "    }\n",
       "\n",
       "    .dataframe thead th {\n",
       "        text-align: right;\n",
       "    }\n",
       "</style>\n",
       "<table border=\"1\" class=\"dataframe\">\n",
       "  <thead>\n",
       "    <tr style=\"text-align: right;\">\n",
       "      <th></th>\n",
       "      <th>id</th>\n",
       "      <th>Gender</th>\n",
       "      <th>Age</th>\n",
       "      <th>Driving_License</th>\n",
       "      <th>Region_Code</th>\n",
       "      <th>Previously_Insured</th>\n",
       "      <th>Vehicle_Age</th>\n",
       "      <th>Vehicle_Damage</th>\n",
       "      <th>Annual_Premium</th>\n",
       "      <th>Policy_Sales_Channel</th>\n",
       "      <th>Vintage</th>\n",
       "      <th>Response</th>\n",
       "    </tr>\n",
       "  </thead>\n",
       "  <tbody>\n",
       "    <tr>\n",
       "      <th>0</th>\n",
       "      <td>1</td>\n",
       "      <td>Male</td>\n",
       "      <td>44</td>\n",
       "      <td>1</td>\n",
       "      <td>28.0</td>\n",
       "      <td>0</td>\n",
       "      <td>&gt; 2 Years</td>\n",
       "      <td>Yes</td>\n",
       "      <td>40454.0</td>\n",
       "      <td>26.0</td>\n",
       "      <td>217</td>\n",
       "      <td>1</td>\n",
       "    </tr>\n",
       "    <tr>\n",
       "      <th>1</th>\n",
       "      <td>2</td>\n",
       "      <td>Male</td>\n",
       "      <td>76</td>\n",
       "      <td>1</td>\n",
       "      <td>3.0</td>\n",
       "      <td>0</td>\n",
       "      <td>1-2 Year</td>\n",
       "      <td>No</td>\n",
       "      <td>33536.0</td>\n",
       "      <td>26.0</td>\n",
       "      <td>183</td>\n",
       "      <td>0</td>\n",
       "    </tr>\n",
       "    <tr>\n",
       "      <th>2</th>\n",
       "      <td>3</td>\n",
       "      <td>Male</td>\n",
       "      <td>47</td>\n",
       "      <td>1</td>\n",
       "      <td>28.0</td>\n",
       "      <td>0</td>\n",
       "      <td>&gt; 2 Years</td>\n",
       "      <td>Yes</td>\n",
       "      <td>38294.0</td>\n",
       "      <td>26.0</td>\n",
       "      <td>27</td>\n",
       "      <td>1</td>\n",
       "    </tr>\n",
       "    <tr>\n",
       "      <th>3</th>\n",
       "      <td>4</td>\n",
       "      <td>Male</td>\n",
       "      <td>21</td>\n",
       "      <td>1</td>\n",
       "      <td>11.0</td>\n",
       "      <td>1</td>\n",
       "      <td>&lt; 1 Year</td>\n",
       "      <td>No</td>\n",
       "      <td>28619.0</td>\n",
       "      <td>152.0</td>\n",
       "      <td>203</td>\n",
       "      <td>0</td>\n",
       "    </tr>\n",
       "    <tr>\n",
       "      <th>4</th>\n",
       "      <td>5</td>\n",
       "      <td>Female</td>\n",
       "      <td>29</td>\n",
       "      <td>1</td>\n",
       "      <td>41.0</td>\n",
       "      <td>1</td>\n",
       "      <td>&lt; 1 Year</td>\n",
       "      <td>No</td>\n",
       "      <td>27496.0</td>\n",
       "      <td>152.0</td>\n",
       "      <td>39</td>\n",
       "      <td>0</td>\n",
       "    </tr>\n",
       "  </tbody>\n",
       "</table>\n",
       "</div>"
      ],
      "text/plain": [
       "   id  Gender  Age  Driving_License  Region_Code  Previously_Insured  \\\n",
       "0   1    Male   44                1         28.0                   0   \n",
       "1   2    Male   76                1          3.0                   0   \n",
       "2   3    Male   47                1         28.0                   0   \n",
       "3   4    Male   21                1         11.0                   1   \n",
       "4   5  Female   29                1         41.0                   1   \n",
       "\n",
       "  Vehicle_Age Vehicle_Damage  Annual_Premium  Policy_Sales_Channel  Vintage  \\\n",
       "0   > 2 Years            Yes         40454.0                  26.0      217   \n",
       "1    1-2 Year             No         33536.0                  26.0      183   \n",
       "2   > 2 Years            Yes         38294.0                  26.0       27   \n",
       "3    < 1 Year             No         28619.0                 152.0      203   \n",
       "4    < 1 Year             No         27496.0                 152.0       39   \n",
       "\n",
       "   Response  \n",
       "0         1  \n",
       "1         0  \n",
       "2         1  \n",
       "3         0  \n",
       "4         0  "
      ]
     },
     "execution_count": 312,
     "metadata": {},
     "output_type": "execute_result"
    }
   ],
   "source": [
    "train.head()"
   ]
  },
  {
   "cell_type": "code",
   "execution_count": 313,
   "metadata": {},
   "outputs": [],
   "source": [
    "train['Driving_License'] = train['Driving_License'].astype('object')\n",
    "train['Region_Code'] = train['Region_Code'].astype('object')\n",
    "train['Previously_Insured'] = train['Previously_Insured'].astype('object')\n",
    "train['Policy_Sales_Channel']= train['Policy_Sales_Channel'].astype('object')\n",
    "train['Response'] = train['Response'].astype('object')"
   ]
  },
  {
   "cell_type": "code",
   "execution_count": 314,
   "metadata": {},
   "outputs": [],
   "source": [
    "train['Region_Code'] = train['Region_Code'].apply(lambda x: 'Other Region'\n",
    "                                                  if x in (39,10,21,2,13,7,12,9,27,32,43,17,26,25,24,38,0,16,23,31,20,49,4,34,19,22,40,44,5,1,42,52,51)\n",
    "                                                  else x)\n",
    "train['Policy_Sales_Channel'] = train['Policy_Sales_Channel'].apply(lambda x: 'Other_sales_channels'\n",
    "                                                  if x not in (152,26,124,160,156)\n",
    "                                                  else x)\n",
    "train=train.drop('id',axis=1)"
   ]
  },
  {
   "cell_type": "code",
   "execution_count": 315,
   "metadata": {},
   "outputs": [],
   "source": [
    "train['Region_Code'] = train['Region_Code'].apply(lambda x: 'Medium_resp_Region'\n",
    "                                                  if x in (8,11,14,33,45,46,47,48)\n",
    "                                                  else x)\n",
    "train['Region_Code'] = train['Region_Code'].apply(lambda x: 'High_resp_Region'\n",
    "                                                  if x in (3,18,28,29,35,41)\n",
    "                                                  else x)\n",
    "train['Region_Code'] = train['Region_Code'].apply(lambda x: 'low_resp_Region'\n",
    "                                                  if x in (6,15,30,36,37,50,'Other Region')\n",
    "                                                  else x)"
   ]
  },
  {
   "cell_type": "code",
   "execution_count": 316,
   "metadata": {},
   "outputs": [],
   "source": [
    "from sklearn.preprocessing import PowerTransformer\n",
    "for i in train.select_dtypes(np.number):\n",
    "    pt = PowerTransformer()\n",
    "    train[i] = pt.fit_transform(train[[i]])"
   ]
  },
  {
   "cell_type": "code",
   "execution_count": 317,
   "metadata": {
    "scrolled": false
   },
   "outputs": [
    {
     "data": {
      "image/png": "[encoded data removed]",
      "text/plain": [
       "<Figure size 1080x360 with 2 Axes>"
      ]
     },
     "metadata": {
      "needs_background": "light"
     },
     "output_type": "display_data"
    },
    {
     "data": {
      "image/png": "[encoded data removed]",
      "text/plain": [
       "<Figure size 1080x360 with 2 Axes>"
      ]
     },
     "metadata": {
      "needs_background": "light"
     },
     "output_type": "display_data"
    },
    {
     "data": {
      "image/png": "[encoded data removed]",
      "text/plain": [
       "<Figure size 1080x360 with 2 Axes>"
      ]
     },
     "metadata": {
      "needs_background": "light"
     },
     "output_type": "display_data"
    }
   ],
   "source": [
    "for i in train.select_dtypes(np.number):\n",
    "    fig , ax = plt.subplots(1,2,figsize=(15,5))\n",
    "    sns.boxplot(train[i] , ax=ax[0])\n",
    "    sns.distplot(train[i] , ax=ax[1])\n",
    "    plt.show()"
   ]
  },
  {
   "cell_type": "code",
   "execution_count": 318,
   "metadata": {},
   "outputs": [],
   "source": [
    "train= train.drop('Vintage',axis=1)\n",
    "train['Gender']= train['Gender'].map({'Female':0,'Male':1})\n",
    "train['Vehicle_Damage']= train['Vehicle_Damage'].map({'No':0,'Yes':1})\n",
    "train['Policy_Sales_Channel']= train['Policy_Sales_Channel'].map({'Other_sales_channels':0,156:1,160:2,124:3\n",
    "                                                                  ,26:4,152:5})\n",
    "train['Region_Code']= train['Region_Code'].map({'low_resp_Region':0,'Medium_resp_Region':1,'High_resp_Region':2})"
   ]
  },
  {
   "cell_type": "code",
   "execution_count": 319,
   "metadata": {
    "scrolled": true
   },
   "outputs": [],
   "source": [
    "import imblearn\n",
    "from imblearn.over_sampling import SMOTE\n",
    "from imblearn.combine import SMOTETomek"
   ]
  },
  {
   "cell_type": "markdown",
   "metadata": {},
   "source": [
    "### Model building with balanced data"
   ]
  },
  {
   "cell_type": "code",
   "execution_count": 320,
   "metadata": {},
   "outputs": [],
   "source": [
    "y= train['Response']\n",
    "y= y.astype('int')\n",
    "x= train.drop('Response',axis=1)\n",
    "X = pd.get_dummies(x,drop_first=True)"
   ]
  },
  {
   "cell_type": "code",
   "execution_count": 321,
   "metadata": {},
   "outputs": [
    {
     "data": {
      "text/plain": [
       "Index(['Gender', 'Age', 'Region_Code', 'Vehicle_Damage', 'Annual_Premium',\n",
       "       'Policy_Sales_Channel', 'Driving_License_1', 'Previously_Insured_1',\n",
       "       'Vehicle_Age_< 1 Year', 'Vehicle_Age_> 2 Years'],\n",
       "      dtype='object')"
      ]
     },
     "execution_count": 321,
     "metadata": {},
     "output_type": "execute_result"
    }
   ],
   "source": [
    "X.columns"
   ]
  },
  {
   "cell_type": "code",
   "execution_count": 322,
   "metadata": {},
   "outputs": [],
   "source": [
    "X= X.rename(columns={'Vehicle_Age_< 1 Year':'New_vehicles','Vehicle_Age_> 2 Years':'Old_vehicles'})"
   ]
  },
  {
   "cell_type": "code",
   "execution_count": 323,
   "metadata": {},
   "outputs": [
    {
     "data": {
      "text/plain": [
       "0    334399\n",
       "1     46710\n",
       "Name: Response, dtype: int64"
      ]
     },
     "execution_count": 323,
     "metadata": {},
     "output_type": "execute_result"
    }
   ],
   "source": [
    "y.value_counts()"
   ]
  },
  {
   "cell_type": "code",
   "execution_count": 324,
   "metadata": {},
   "outputs": [],
   "source": [
    "# Splitting into train and test set\n",
    "x_train, x_test, y_train, y_test = train_test_split(X,y, test_size=0.3, random_state=42)"
   ]
  },
  {
   "cell_type": "code",
   "execution_count": 325,
   "metadata": {},
   "outputs": [],
   "source": [
    "# Usinge Smotetomek with 70:30 ratio\n",
    "Smk= SMOTETomek (sampling_strategy=30/70)\n",
    "Xnew,ynew=Smk.fit_resample(x_train,y_train)"
   ]
  },
  {
   "cell_type": "code",
   "execution_count": 326,
   "metadata": {},
   "outputs": [
    {
     "data": {
      "text/plain": [
       "((306207, 10), (306207,), (114333, 10), (114333,))"
      ]
     },
     "execution_count": 326,
     "metadata": {},
     "output_type": "execute_result"
    }
   ],
   "source": [
    "Xnew.shape , ynew.shape, x_test.shape , y_test.shape"
   ]
  },
  {
   "cell_type": "code",
   "execution_count": 327,
   "metadata": {},
   "outputs": [
    {
     "data": {
      "text/plain": [
       "0    220019\n",
       "1     86188\n",
       "Name: Response, dtype: int64"
      ]
     },
     "execution_count": 327,
     "metadata": {},
     "output_type": "execute_result"
    }
   ],
   "source": [
    "ynew.value_counts()"
   ]
  },
  {
   "cell_type": "code",
   "execution_count": 328,
   "metadata": {},
   "outputs": [
    {
     "data": {
      "image/png": "[encoded data removed]",
      "text/plain": [
       "<Figure size 432x288 with 1 Axes>"
      ]
     },
     "metadata": {
      "needs_background": "light"
     },
     "output_type": "display_data"
    }
   ],
   "source": [
    "# Graph after balancing the target variable\n",
    "plt.rcParams['figure.figsize']= 6,4\n",
    "sns.countplot(ynew,palette='turbo')\n",
    "plt.title('Balanced Target variable')\n",
    "plt.show()"
   ]
  },
  {
   "cell_type": "markdown",
   "metadata": {},
   "source": [
    "### Decision tree model"
   ]
  },
  {
   "cell_type": "code",
   "execution_count": 235,
   "metadata": {},
   "outputs": [],
   "source": [
    "from sklearn.metrics import precision_score, recall_score, f1_score, accuracy_score, confusion_matrix, classification_report"
   ]
  },
  {
   "cell_type": "code",
   "execution_count": 329,
   "metadata": {},
   "outputs": [
    {
     "name": "stdout",
     "output_type": "stream",
     "text": [
      "              precision    recall  f1-score   support\n",
      "\n",
      "           0       0.91      0.87      0.89    100195\n",
      "           1       0.30      0.38      0.34     14138\n",
      "\n",
      "    accuracy                           0.81    114333\n",
      "   macro avg       0.60      0.63      0.61    114333\n",
      "weighted avg       0.83      0.81      0.82    114333\n",
      "\n",
      "Training Accuracy 0.9667806418533867 \tTesting Accuracy 0.812722486071388\n",
      "Training Precision 0.9398972246012823 \tTesting Precision 0.2988162407345945\n",
      "Training Recall 0.942230937021395 \tTesting Recall 0.38209081906917525\n"
     ]
    }
   ],
   "source": [
    "# Basic decision tree model\n",
    "dt= DecisionTreeClassifier()\n",
    "dt= dt.fit(Xnew,ynew)\n",
    "y_pred_dt = dt.predict(x_test)\n",
    "print(classification_report(y_test, y_pred_dt))\n",
    "print('Training Accuracy', dt.score(Xnew,ynew),'\\tTesting Accuracy', dt.score(x_test,y_test))\n",
    "print('Training Precision', precision_score(ynew,dt.predict(Xnew)),'\\tTesting Precision',precision_score(y_test,y_pred_dt))\n",
    "print('Training Recall', recall_score(ynew,dt.predict(Xnew)),'\\tTesting Recall',recall_score(y_test,y_pred_dt))"
   ]
  },
  {
   "cell_type": "code",
   "execution_count": 67,
   "metadata": {},
   "outputs": [
    {
     "name": "stdout",
     "output_type": "stream",
     "text": [
      "Best parameters for Decision Tree Classifier:  {'criterion': 'entropy', 'max_depth': 2, 'min_samples_split': 2} \n",
      "\n"
     ]
    }
   ],
   "source": [
    "# Finding best parameter from the decision tree model\n",
    "from sklearn.metrics import precision_score\n",
    "tuned_paramaters = [{'criterion': ['entropy', 'gini'],\n",
    "                     'max_depth': range(2, 20),\n",
    "                     'min_samples_split': range(2,10)}]\n",
    "\n",
    "decision_tree_model = DecisionTreeClassifier(random_state = 10)\n",
    "tree_grid = GridSearchCV(estimator = decision_tree_model, \n",
    "                         param_grid = tuned_paramaters, \n",
    "                         cv = 3,\n",
    "                        scoring= precision_score,\n",
    "                        n_jobs=-1)\n",
    "tree_grid.fit(Xnew, ynew)\n",
    "print('Best parameters for Decision Tree Classifier: ', tree_grid.best_params_, '\\n')"
   ]
  },
  {
   "cell_type": "code",
   "execution_count": 499,
   "metadata": {},
   "outputs": [
    {
     "name": "stdout",
     "output_type": "stream",
     "text": [
      "Balanced Decision Tree tuned model:\n",
      "\n",
      "              precision    recall  f1-score   support\n",
      "\n",
      "           0       0.95      0.81      0.87    100195\n",
      "           1       0.33      0.67      0.45     14138\n",
      "\n",
      "    accuracy                           0.79    114333\n",
      "   macro avg       0.64      0.74      0.66    114333\n",
      "weighted avg       0.87      0.79      0.82    114333\n",
      "\n",
      "Training Accuracy:  0.8009 \tTesting Accuracy:  0.7949\n",
      "Training Precision: 0.6301 \tTesting Precision: 0.3344\n",
      "Training Recall:    0.7083 \tTesting Recall:    0.665\n"
     ]
    }
   ],
   "source": [
    "# Using the best parameters to the model\n",
    "dt_t= DecisionTreeClassifier(criterion='entropy',max_depth=9,min_samples_split=7)\n",
    "dt_t= dt_t.fit(Xnew,ynew)\n",
    "y_pred_dt_t = dt_t.predict(x_test)\n",
    "print('Balanced Decision Tree tuned model:\\n')\n",
    "print(classification_report(y_test, y_pred_dt_t))\n",
    "print('Training Accuracy: ', round(dt_t.score(Xnew,ynew),4),'\\tTesting Accuracy: ',round(dt_t.score(x_test,y_test),4))\n",
    "print('Training Precision:', round(precision_score(ynew,dt_t.predict(Xnew)),4),'\\tTesting Precision:',round(precision_score(y_test,y_pred_dt_t),4))\n",
    "print('Training Recall:   ', round(recall_score(ynew,dt_t.predict(Xnew)),4),'\\tTesting Recall:   ',round(recall_score(y_test,y_pred_dt_t),4))"
   ]
  },
  {
   "cell_type": "code",
   "execution_count": 331,
   "metadata": {},
   "outputs": [
    {
     "name": "stdout",
     "output_type": "stream",
     "text": [
      "AUC: 0.8820263714106433\n"
     ]
    },
    {
     "data": {
      "image/png": "[encoded data removed]",
      "text/plain": [
       "<Figure size 432x288 with 1 Axes>"
      ]
     },
     "metadata": {
      "needs_background": "light"
     },
     "output_type": "display_data"
    }
   ],
   "source": [
    "# Plotting the roc-curve for the train set\n",
    "y_prob_tr1 = dt_t.predict_proba(Xnew)[:,1]\n",
    "auc_tr1 = roc_auc_score(ynew,y_prob_tr1)\n",
    "fpr_tr1 , tpr_tr1, thr_tr1 = roc_curve(ynew,y_prob_tr1)\n",
    "print('AUC:',auc_tr1)\n",
    "plt.plot([0,1],[0,1],linestyle='--')\n",
    "plt.plot(fpr_tr1,tpr_tr1)\n",
    "plt.show()"
   ]
  },
  {
   "cell_type": "code",
   "execution_count": 544,
   "metadata": {},
   "outputs": [
    {
     "name": "stdout",
     "output_type": "stream",
     "text": [
      "AUC 0.8484639473468102\n"
     ]
    },
    {
     "data": {
      "image/png": "[encoded data removed]",
      "text/plain": [
       "<Figure size 432x288 with 1 Axes>"
      ]
     },
     "metadata": {
      "needs_background": "light"
     },
     "output_type": "display_data"
    }
   ],
   "source": [
    "# plotting the roc-curve for the test set\n",
    "y_prob_te1 = dt_t.predict_proba(x_test)[:,1]\n",
    "auc_te1 = roc_auc_score(y_test,y_prob_te1)\n",
    "fpr_te1, tpr_te1, thr_te1 = roc_curve(y_test,y_prob_te1)\n",
    "plt.plot([0,1],[0,1],linestyle='--')\n",
    "plt.plot(fpr_te1,tpr_te1)\n",
    "print('AUC',auc_te1)\n",
    "plt.xlabel('FPR')\n",
    "plt.ylabel('TPR')\n",
    "plt.title('Decision Tree ROC-Curve')\n",
    "plt.show()"
   ]
  },
  {
   "cell_type": "code",
   "execution_count": 333,
   "metadata": {},
   "outputs": [
    {
     "name": "stdout",
     "output_type": "stream",
     "text": [
      "Best threshold train: 0.29393939393939394\n",
      "Best threshold test: 0.2765957446808511\n"
     ]
    }
   ],
   "source": [
    "# Threshold optimisation using tpr, fpr\n",
    "optimal_tr1 = np.argmax(tpr_tr1 - fpr_tr1)\n",
    "optimal_thresh_tr1 = thr_tr1[optimal_tr1]\n",
    "print('Best threshold train:',optimal_thresh_tr1)\n",
    "optimal_te1 = np.argmax(tpr_te1 - fpr_te1)\n",
    "optimal_thresh_te1 = thr_te1[optimal_te1]\n",
    "print('Best threshold test:',optimal_thresh_te1)"
   ]
  },
  {
   "cell_type": "code",
   "execution_count": 335,
   "metadata": {},
   "outputs": [],
   "source": [
    "# Using tpr and fpr\n",
    "y_train_pr1 = []\n",
    "for i in range(0,len(y_prob_tr1)):\n",
    "    if np.array(y_prob_tr1)[i] > 0.28:\n",
    "        a=1\n",
    "    else:\n",
    "        a=0\n",
    "    y_train_pr1.append(a)\n",
    "# Testing prediction\n",
    "y_test_pr1 = []\n",
    "for i in range(0,len(y_prob_te1)):\n",
    "    if np.array(y_prob_te1)[i]> 0.28:\n",
    "        b=1\n",
    "    else:\n",
    "        b=0\n",
    "    y_test_pr1.append(b)"
   ]
  },
  {
   "cell_type": "code",
   "execution_count": 500,
   "metadata": {},
   "outputs": [
    {
     "name": "stdout",
     "output_type": "stream",
     "text": [
      "Balanced Decision Tree threshold tuned:\n",
      "\n",
      "              precision    recall  f1-score   support\n",
      "\n",
      "           0       0.98      0.68      0.81    100195\n",
      "           1       0.29      0.91      0.44     14138\n",
      "\n",
      "    accuracy                           0.71    114333\n",
      "   macro avg       0.63      0.79      0.62    114333\n",
      "weighted avg       0.90      0.71      0.76    114333\n",
      "\n",
      "Training Accuracy:  0.8009 \tTesting Accuracy:  0.7949\n",
      "Training Precision: 0.5628 \tTesting Precision: 0.2876\n",
      "Training Recall:    0.9399 \tTesting Recall:    0.9054\n"
     ]
    }
   ],
   "source": [
    "print('Balanced Decision Tree threshold tuned:\\n')\n",
    "print(classification_report(y_test, y_test_pr1))\n",
    "print('Training Accuracy: ', round(dt_t.score(Xnew,ynew),4),'\\tTesting Accuracy: ',round(dt_t.score(x_test,y_test),4))\n",
    "print('Training Precision:', round(precision_score(ynew,y_train_pr1),4),'\\tTesting Precision:',round(precision_score(y_test,y_test_pr1),4))\n",
    "print('Training Recall:   ', round(recall_score(ynew,y_train_pr1),4),'\\tTesting Recall:   ',round(recall_score(y_test,y_test_pr1),4))"
   ]
  },
  {
   "cell_type": "markdown",
   "metadata": {},
   "source": [
    "Here, the Accuracy and Recall are best fit and the Precision is overfitting, even though that is a problem, this is our base line model, so we will try to improve them using the further models built."
   ]
  },
  {
   "cell_type": "code",
   "execution_count": 549,
   "metadata": {},
   "outputs": [
    {
     "data": {
      "image/png": "[encoded data removed]",
      "text/plain": [
       "<Figure size 432x288 with 2 Axes>"
      ]
     },
     "metadata": {
      "needs_background": "light"
     },
     "output_type": "display_data"
    }
   ],
   "source": [
    "# Confusion matrix of the above model\n",
    "cmdtbal = confusion_matrix(y_test,y_test_pr1)\n",
    "sns.heatmap(cmdtbal,annot=True,fmt='g')\n",
    "plt.title('Decision Tree Confusion Matrix')\n",
    "plt.show()"
   ]
  },
  {
   "cell_type": "code",
   "execution_count": 516,
   "metadata": {},
   "outputs": [
    {
     "name": "stdout",
     "output_type": "stream",
     "text": [
      "0.7041\n",
      "0.4365\n"
     ]
    }
   ],
   "source": [
    "print(round(f1_score(ynew,y_train_pr1),4))\n",
    "print(round(f1_score(y_test,y_test_pr1),4))"
   ]
  },
  {
   "cell_type": "code",
   "execution_count": 496,
   "metadata": {},
   "outputs": [
    {
     "name": "stdout",
     "output_type": "stream",
     "text": [
      "0.0 0.383\n",
      "0.1 0.5098\n",
      "0.2 0.5457\n",
      "0.3 0.5738\n",
      "0.4 0.5875\n",
      "0.5 0.6301\n",
      "0.6 0.66\n",
      "0.7 1.0\n",
      "0.8 1.0\n",
      "0.9 1.0\n"
     ]
    }
   ],
   "source": [
    "pred_tr = dt_t.predict_proba(Xnew)[:,1]\n",
    "for j in np.arange(0,1,0.1):\n",
    "    custom_prob=j\n",
    "    custom_cutoff_data=[]\n",
    "    for i in range(0,len(ynew)):\n",
    "        if np.array(pred_tr[i]) > custom_prob:\n",
    "            a=1\n",
    "        else:\n",
    "            a=0\n",
    "        custom_cutoff_data.append(a)\n",
    "    print(round(custom_prob,6),round(precision_score(ynew,custom_cutoff_data),4))"
   ]
  },
  {
   "cell_type": "code",
   "execution_count": 412,
   "metadata": {},
   "outputs": [
    {
     "name": "stdout",
     "output_type": "stream",
     "text": [
      "0.0 1.0\n",
      "0.1 0.99\n",
      "0.2 0.9614\n",
      "0.3 0.9203\n",
      "0.4 0.8862\n",
      "0.5 0.7083\n",
      "0.6 0.5443\n",
      "0.7 0.0334\n",
      "0.8 0.0334\n",
      "0.9 0.0334\n"
     ]
    }
   ],
   "source": [
    "pred_tr = dt_t.predict_proba(Xnew)[:,1]\n",
    "for j in np.arange(0,1,0.1):\n",
    "    custom_prob=j\n",
    "    custom_cutoff_data=[]\n",
    "    for i in range(0,len(ynew)):\n",
    "        if np.array(pred_tr[i]) > custom_prob:\n",
    "            a=1\n",
    "        else:\n",
    "            a=0\n",
    "        custom_cutoff_data.append(a)\n",
    "    print(round(custom_prob,6),round(recall_score(ynew,custom_cutoff_data),4))"
   ]
  },
  {
   "cell_type": "code",
   "execution_count": 413,
   "metadata": {},
   "outputs": [
    {
     "name": "stdout",
     "output_type": "stream",
     "text": [
      "0.0 0.177\n",
      "0.1 0.2527\n",
      "0.2 0.2755\n",
      "0.3 0.2948\n",
      "0.4 0.3041\n",
      "0.5 0.3344\n",
      "0.6 0.3539\n",
      "0.7 0.0\n",
      "0.8 0.0\n",
      "0.9 0.0\n"
     ]
    }
   ],
   "source": [
    "pred_te = dt_t.predict_proba(x_test)[:,1]\n",
    "for j in np.arange(0,1,0.1):\n",
    "    custom_prob=j\n",
    "    custom_cutoff_data=[]\n",
    "    for i in range(0,len(y_test)):\n",
    "        if np.array(pred_te[i]) > custom_prob:\n",
    "            a=1\n",
    "        else:\n",
    "            a=0\n",
    "        custom_cutoff_data.append(a)\n",
    "    print(round(custom_prob,3),round(precision_score(y_test,custom_cutoff_data),4))"
   ]
  },
  {
   "cell_type": "code",
   "execution_count": 414,
   "metadata": {},
   "outputs": [
    {
     "name": "stdout",
     "output_type": "stream",
     "text": [
      "0.0 0.9968\n",
      "0.1 0.978\n",
      "0.2 0.9327\n",
      "0.3 0.88\n",
      "0.4 0.8421\n",
      "0.5 0.665\n",
      "0.6 0.513\n",
      "0.7 0.0\n",
      "0.8 0.0\n",
      "0.9 0.0\n"
     ]
    }
   ],
   "source": [
    "pred_te = dt_t.predict_proba(x_test)[:,1]\n",
    "for j in np.arange(0,1,0.1):\n",
    "    custom_prob=j\n",
    "    custom_cutoff_data=[]\n",
    "    for i in range(0,len(y_test)):\n",
    "        if np.array(pred_te[i]) > custom_prob:\n",
    "            a=1\n",
    "        else:\n",
    "            a=0\n",
    "        custom_cutoff_data.append(a)\n",
    "    print(round(custom_prob,3),round(recall_score(y_test,custom_cutoff_data),4))"
   ]
  },
  {
   "cell_type": "code",
   "execution_count": 218,
   "metadata": {},
   "outputs": [
    {
     "data": {
      "text/plain": [
       "array([0.59955854, 0.61153586, 0.61035213, 0.62112463, 0.61671952,\n",
       "       0.64077974, 0.63081022, 0.61737048, 0.63114924, 0.61569008])"
      ]
     },
     "execution_count": 218,
     "metadata": {},
     "output_type": "execute_result"
    }
   ],
   "source": [
    "# Cross-Validation Score\n",
    "\n",
    "decision_tree_tuned_model = DecisionTreeClassifier(criterion = 'entropy', \n",
    "                                                   max_depth = 9, \n",
    "                                                   min_samples_split = 7)\n",
    "\n",
    "scores = cross_val_score(estimator = decision_tree_tuned_model, \n",
    "                         X = Xnew, \n",
    "                         y = ynew, \n",
    "                         cv = 10, \n",
    "                         scoring ='precision')\n",
    "\n",
    "scores"
   ]
  },
  {
   "cell_type": "markdown",
   "metadata": {},
   "source": [
    "### Random Forest "
   ]
  },
  {
   "cell_type": "code",
   "execution_count": 250,
   "metadata": {},
   "outputs": [],
   "source": [
    "from sklearn.ensemble import RandomForestClassifier"
   ]
  },
  {
   "cell_type": "code",
   "execution_count": 246,
   "metadata": {},
   "outputs": [
    {
     "name": "stdout",
     "output_type": "stream",
     "text": [
      "              precision    recall  f1-score   support\n",
      "\n",
      "           0       0.91      0.88      0.89    100195\n",
      "           1       0.31      0.39      0.34     14138\n",
      "\n",
      "    accuracy                           0.82    114333\n",
      "   macro avg       0.61      0.63      0.62    114333\n",
      "weighted avg       0.84      0.82      0.83    114333\n",
      "\n",
      "Training Accuracy: 0.966983795427471\n",
      "Testing Accuracy: 0.817559234866574\n"
     ]
    }
   ],
   "source": [
    "# Basic Random forest model\n",
    "from sklearn.metrics import classification_report, accuracy_score\n",
    "rf= RandomForestClassifier()\n",
    "rf= rf.fit(Xnew,ynew)\n",
    "y_pred_rf = rf.predict(x_test)\n",
    "print(classification_report(y_test, y_pred_rf))\n",
    "print('Training Accuracy:',rf.score(Xnew,ynew))\n",
    "print('Testing Accuracy:', rf.score(x_test,y_test))"
   ]
  },
  {
   "cell_type": "code",
   "execution_count": 99,
   "metadata": {},
   "outputs": [
    {
     "name": "stdout",
     "output_type": "stream",
     "text": [
      "Fitting 3 folds for each of 10 candidates, totalling 30 fits\n",
      "Best parameters for Decision Tree Classifier:  {'n_estimators': 200, 'min_samples_split': 6, 'max_depth': 9, 'criterion': 'entropy'} \n",
      "\n"
     ]
    }
   ],
   "source": [
    "# Finding the best parameters using randomized search \n",
    "from sklearn.model_selection import RandomizedSearchCV\n",
    "g= {'criterion':['entropy','gini'],\n",
    "   'max_depth': [5,6,7,8,9,10],\n",
    "                     'min_samples_split': [3,4,5,6,7,8,9],\n",
    "                     'n_estimators':[200,300]}\n",
    "gs= RandomizedSearchCV(RandomForestClassifier(),\n",
    "                      param_distributions=g,\n",
    "                      n_iter=10,\n",
    "                      scoring=precision_score,\n",
    "                      cv=3,\n",
    "                      n_jobs=-1,\n",
    "                      verbose=3)\n",
    "gs.fit(Xnew,ynew)\n",
    "print('Best parameters for Decision Tree Classifier: ', gs.best_params_, '\\n')"
   ]
  },
  {
   "cell_type": "code",
   "execution_count": 501,
   "metadata": {},
   "outputs": [
    {
     "name": "stdout",
     "output_type": "stream",
     "text": [
      "Balanced Random Forest Tuned:\n",
      "\n",
      "              precision    recall  f1-score   support\n",
      "\n",
      "           0       0.96      0.78      0.86    100195\n",
      "           1       0.33      0.76      0.46     14138\n",
      "\n",
      "    accuracy                           0.78    114333\n",
      "   macro avg       0.64      0.77      0.66    114333\n",
      "weighted avg       0.88      0.78      0.81    114333\n",
      "\n",
      "Training Accuracy:  0.8031 \tTesting Accuracy:  0.7765\n",
      "Training Precision: 0.6162 \tTesting Precision: 0.326\n",
      "Training Recall:    0.7962 \tTesting Recall:    0.7565\n"
     ]
    }
   ],
   "source": [
    "# Applying those parameters to build the tuned model\n",
    "from sklearn.metrics import classification_report, accuracy_score\n",
    "rf_t= RandomForestClassifier(n_estimators= 200, max_depth=9, min_samples_split=6,criterion='entropy')\n",
    "rf_t = rf_t.fit(Xnew,ynew)\n",
    "y_pred_rf_t = rf_t.predict(x_test)\n",
    "print('Balanced Random Forest Tuned:\\n')\n",
    "print(classification_report(y_test, y_pred_rf_t))\n",
    "print('Training Accuracy: ', round(rf_t.score(Xnew,ynew),4),'\\tTesting Accuracy: ',round(rf_t.score(x_test,y_test),4))\n",
    "print('Training Precision:', round(precision_score(ynew,rf_t.predict(Xnew)),4),'\\tTesting Precision:',round(precision_score(y_test,y_pred_rf_t),4))\n",
    "print('Training Recall:   ', round(recall_score(ynew,rf_t.predict(Xnew)),4),'\\tTesting Recall:   ',round(recall_score(y_test,y_pred_rf_t),4))"
   ]
  },
  {
   "cell_type": "markdown",
   "metadata": {},
   "source": [
    "Since the Precision is overfitting we try to tune the thresholds."
   ]
  },
  {
   "cell_type": "code",
   "execution_count": 248,
   "metadata": {},
   "outputs": [
    {
     "name": "stdout",
     "output_type": "stream",
     "text": [
      "AUC: 0.8841205948450441\n"
     ]
    },
    {
     "data": {
      "image/png": "[encoded data removed]",
      "text/plain": [
       "<Figure size 432x288 with 1 Axes>"
      ]
     },
     "metadata": {
      "needs_background": "light"
     },
     "output_type": "display_data"
    }
   ],
   "source": [
    "# Finding the Roc-curve for the train set\n",
    "y_prob_tr2 = rf_t.predict_proba(Xnew)[:,1]\n",
    "auc_tr2 = roc_auc_score(ynew,y_prob_tr2)\n",
    "fpr_tr2 , tpr_tr2, thr_tr2 = roc_curve(ynew,y_prob_tr2)\n",
    "print('AUC:',auc_tr2)\n",
    "plt.plot([0,1],[0,1],linestyle='--')\n",
    "plt.plot(fpr_tr2,tpr_tr2)\n",
    "plt.show()"
   ]
  },
  {
   "cell_type": "code",
   "execution_count": 547,
   "metadata": {},
   "outputs": [
    {
     "name": "stdout",
     "output_type": "stream",
     "text": [
      "AUC: 0.8539795213734123\n"
     ]
    },
    {
     "data": {
      "image/png": "[encoded data removed]",
      "text/plain": [
       "<Figure size 432x288 with 1 Axes>"
      ]
     },
     "metadata": {
      "needs_background": "light"
     },
     "output_type": "display_data"
    }
   ],
   "source": [
    "# Finding the Roc-curve for the test set.\n",
    "y_prob_te2 = rf_t.predict_proba(x_test)[:,1]\n",
    "auc_te2 = roc_auc_score(y_test,y_prob_te2)\n",
    "fpr_te2 , tpr_te2, thr_te2 = roc_curve(y_test,y_prob_te2)\n",
    "print('AUC:',auc_te2)\n",
    "plt.plot([0,1],[0,1],linestyle='--')\n",
    "plt.plot(fpr_te2,tpr_te2)\n",
    "plt.xlabel('FPR')\n",
    "plt.ylabel('TPR')\n",
    "plt.title('Random Forest ROC-Curve')\n",
    "plt.show()"
   ]
  },
  {
   "cell_type": "code",
   "execution_count": 250,
   "metadata": {},
   "outputs": [
    {
     "name": "stdout",
     "output_type": "stream",
     "text": [
      "Best threshold train: 0.3430778437373386\n",
      "Best threshold test: 0.2563728498524744\n"
     ]
    }
   ],
   "source": [
    "# Finding best threshold using roc-curve\n",
    "optimal_tr2 = np.argmax(tpr_tr2 - fpr_tr2)\n",
    "optimal_thresh_tr2 = thr_tr2[optimal_tr2]\n",
    "print('Best threshold train:',optimal_thresh_tr2)\n",
    "optimal_te2 = np.argmax(tpr_te2 - fpr_te2)\n",
    "optimal_thresh_te2 = thr_te2[optimal_te2]\n",
    "print('Best threshold test:',optimal_thresh_te2)"
   ]
  },
  {
   "cell_type": "code",
   "execution_count": 251,
   "metadata": {},
   "outputs": [],
   "source": [
    "# Getting y_train_pred and y_test_pred using the thresholds obtained above\n",
    "y_train_pr2 = []\n",
    "for i in range(0,len(y_prob_tr2)):\n",
    "    if np.array(y_prob_tr2)[i] > 0.30:\n",
    "        a=1\n",
    "    else:\n",
    "        a=0\n",
    "    y_train_pr2.append(a)\n",
    "# Testing prediction\n",
    "y_test_pr2 = []\n",
    "for i in range(0,len(y_prob_te2)):\n",
    "    if np.array(y_prob_te2)[i]> 0.30:\n",
    "        b=1\n",
    "    else:\n",
    "        b=0\n",
    "    y_test_pr2.append(b)"
   ]
  },
  {
   "cell_type": "code",
   "execution_count": 252,
   "metadata": {},
   "outputs": [
    {
     "name": "stdout",
     "output_type": "stream",
     "text": [
      "              precision    recall  f1-score   support\n",
      "\n",
      "           0       0.98      0.68      0.80    100195\n",
      "           1       0.29      0.92      0.44     14138\n",
      "\n",
      "    accuracy                           0.71    114333\n",
      "   macro avg       0.63      0.80      0.62    114333\n",
      "weighted avg       0.90      0.71      0.76    114333\n",
      "\n",
      "Training Accuracy 0.8035901369147669 \tTesting Accuracy 0.7765474534911181\n",
      "Training Precision 0.5575851456849695 \tTesting Precision 0.2859339645438369\n",
      "Training Recall 0.9428385990125403 \tTesting Recall 0.9206394115150658\n"
     ]
    }
   ],
   "source": [
    "# The performance of the model after threshold tuning\n",
    "print(classification_report(y_test, y_test_pr2))\n",
    "print('Training Accuracy', rf_t.score(Xnew,ynew),'\\tTesting Accuracy', rf_t.score(x_test,y_test))\n",
    "print('Training Precision', precision_score(ynew,y_train_pr2),'\\tTesting Precision',precision_score(y_test,y_test_pr2))\n",
    "print('Training Recall', recall_score(ynew,y_train_pr2),'\\tTesting Recall',recall_score(y_test,y_test_pr2))"
   ]
  },
  {
   "cell_type": "code",
   "execution_count": 254,
   "metadata": {},
   "outputs": [
    {
     "name": "stdout",
     "output_type": "stream",
     "text": [
      "Best train threshold 0.3657510787933671\n",
      "Best test threshold 0.3515327947826457\n"
     ]
    }
   ],
   "source": [
    "# Threshold optimisation using geometric mean\n",
    "y_pb_gm_tr2 = dt_t.predict_proba(Xnew)[:,1]\n",
    "y_pb_gm_te2 = dt_t.predict_proba(x_test)[:,1]\n",
    "gmeans_tr2 = np.argmax(np.sqrt(tpr_tr2 * (1-fpr_tr2)))\n",
    "opt_thresh_tr2 = thr_tr2[gmeans_tr2]\n",
    "print('Best train threshold', opt_thresh_tr2)\n",
    "gmeans_te2 = np.argmax(np.sqrt(tpr_te2 * (1-fpr_te2)))\n",
    "opt_thresh_te2 = thr_te2[gmeans_te2]\n",
    "print('Best test threshold', opt_thresh_te2)"
   ]
  },
  {
   "cell_type": "code",
   "execution_count": 255,
   "metadata": {},
   "outputs": [],
   "source": [
    "# Using geometric mean determining y_train_pred and y_test_pred\n",
    "y_train_gm2 = []\n",
    "for i in range(0,len(y_pb_gm_tr2)):\n",
    "    if np.array(y_pb_gm_tr2)[i] > 0.36:\n",
    "        a=1\n",
    "    else:\n",
    "        a=0\n",
    "    y_train_gm2.append(a)\n",
    "# Testing prediction\n",
    "y_test_gm2 = []\n",
    "for i in range(0,len(y_pb_gm_te2)):\n",
    "    if np.array(y_pb_gm_te2)[i]> 0.36:\n",
    "        b=1\n",
    "    else:\n",
    "        b=0\n",
    "    y_test_gm2.append(b)"
   ]
  },
  {
   "cell_type": "code",
   "execution_count": 256,
   "metadata": {},
   "outputs": [
    {
     "name": "stdout",
     "output_type": "stream",
     "text": [
      "              precision    recall  f1-score   support\n",
      "\n",
      "           0       0.97      0.72      0.83    100195\n",
      "           1       0.30      0.85      0.45     14138\n",
      "\n",
      "    accuracy                           0.74    114333\n",
      "   macro avg       0.64      0.79      0.64    114333\n",
      "weighted avg       0.89      0.74      0.78    114333\n",
      "\n",
      "Training Accuracy 0.8035901369147669 \tTesting Accuracy 0.7765474534911181\n",
      "Training Precision 0.5854744052019372 \tTesting Precision 0.3017764841672103\n",
      "Training Recall 0.8995387218655108 \tTesting Recall 0.8506860942141745\n"
     ]
    }
   ],
   "source": [
    "# Determining the performance of the model after threshold tuning\n",
    "print(classification_report(y_test, y_test_gm2))\n",
    "print('Training Accuracy', rf_t.score(Xnew,ynew),'\\tTesting Accuracy', rf_t.score(x_test,y_test))\n",
    "print('Training Precision', precision_score(ynew,y_train_gm2),'\\tTesting Precision',precision_score(y_test,y_test_gm2))\n",
    "print('Training Recall', recall_score(ynew,y_train_gm2),'\\tTesting Recall',recall_score(y_test,y_test_gm2))"
   ]
  },
  {
   "cell_type": "code",
   "execution_count": 261,
   "metadata": {},
   "outputs": [
    {
     "data": {
      "image/png": "[encoded data removed]",
      "text/plain": [
       "<Figure size 432x288 with 1 Axes>"
      ]
     },
     "metadata": {
      "needs_background": "light"
     },
     "output_type": "display_data"
    }
   ],
   "source": [
    "# Finding best threshold using precision-recall curve\n",
    "y_prec_tr1 = rf_t.predict_proba(Xnew)[:,1]\n",
    "pre_tr1, rec_tr1, thresh_tr1 = precision_recall_curve(ynew,y_prec_tr1)\n",
    "plt.xlabel('Recall')\n",
    "plt.ylabel('Precision')\n",
    "plt.plot(rec_tr1, pre_tr1)\n",
    "plt.show()"
   ]
  },
  {
   "cell_type": "code",
   "execution_count": 262,
   "metadata": {},
   "outputs": [
    {
     "data": {
      "image/png": "[encoded data removed]",
      "text/plain": [
       "<Figure size 432x288 with 1 Axes>"
      ]
     },
     "metadata": {
      "needs_background": "light"
     },
     "output_type": "display_data"
    }
   ],
   "source": [
    "# Finding best threshold using precision-recall curve\n",
    "y_prec_te1 = rf_t.predict_proba(x_test)[:,1]\n",
    "pre_te1, rec_te1, thresh_te1 = precision_recall_curve(y_test ,y_prec_te1)\n",
    "plt.xlabel('Recall')\n",
    "plt.ylabel('Precision')\n",
    "plt.plot(rec_te1, pre_te1)\n",
    "plt.show()"
   ]
  },
  {
   "cell_type": "code",
   "execution_count": 275,
   "metadata": {},
   "outputs": [
    {
     "name": "stdout",
     "output_type": "stream",
     "text": [
      "Best Threshold Train 0.40262768366361307\n",
      "Best Threshold Train 0.4962203812378133\n"
     ]
    }
   ],
   "source": [
    "# Finding the best threshold based on the above curves\n",
    "f1_tr1 = np.argmax((2 * pre_tr1 * rec_tr1)/(pre_tr1 + rec_tr1))\n",
    "opt_thr_f1_tr1 = thresh_tr1[f1_tr1]\n",
    "print('Best Threshold Train',opt_thr_f1_tr1)\n",
    "f1_te1 = np.argmax((2 * pre_te1 * rec_te1)/(pre_te1 + rec_te1))\n",
    "opt_thr_f1_te1 = thresh_te1[f1_te1]\n",
    "print('Best Threshold Train', opt_thr_f1_te1)"
   ]
  },
  {
   "cell_type": "code",
   "execution_count": 272,
   "metadata": {},
   "outputs": [],
   "source": [
    "# Using geometric mean determining y_train_pred and y_test_pred\n",
    "y_train_f11 = []\n",
    "for i in range(0,len(y_prec_tr1)):\n",
    "    if np.array(y_prec_tr1)[i] > 0.449:\n",
    "        a=1\n",
    "    else:\n",
    "        a=0\n",
    "    y_train_f11.append(a)\n",
    "# Testing prediction\n",
    "y_test_f11 = []\n",
    "for i in range(0,len(y_prec_te1)):\n",
    "    if np.array(y_prec_te1)[i]> 0.449:\n",
    "        b=1\n",
    "    else:\n",
    "        b=0\n",
    "    y_test_f11.append(b)"
   ]
  },
  {
   "cell_type": "code",
   "execution_count": 273,
   "metadata": {},
   "outputs": [
    {
     "name": "stdout",
     "output_type": "stream",
     "text": [
      "              precision    recall  f1-score   support\n",
      "\n",
      "           0       0.96      0.76      0.85    100195\n",
      "           1       0.32      0.79      0.45     14138\n",
      "\n",
      "    accuracy                           0.77    114333\n",
      "   macro avg       0.64      0.78      0.65    114333\n",
      "weighted avg       0.88      0.77      0.80    114333\n",
      "\n",
      "Training Accuracy 0.8035901369147669 \tTesting Accuracy 0.7765474534911181\n",
      "Training Precision 0.6070317678853705 \tTesting Precision 0.3193200354863635\n",
      "Training Recall 0.8278319927679006 \tTesting Recall 0.7892205403876079\n"
     ]
    }
   ],
   "source": [
    "# Determining the performance of the model after threshold tuning\n",
    "print(classification_report(y_test, y_test_f11))\n",
    "print('Training Accuracy', rf_t.score(Xnew,ynew),'\\tTesting Accuracy', rf_t.score(x_test,y_test))\n",
    "print('Training Precision', precision_score(ynew,y_train_f11),'\\tTesting Precision',precision_score(y_test,y_test_f11))\n",
    "print('Training Recall', recall_score(ynew,y_train_f11),'\\tTesting Recall',recall_score(y_test,y_test_f11))"
   ]
  },
  {
   "cell_type": "code",
   "execution_count": 341,
   "metadata": {},
   "outputs": [
    {
     "name": "stdout",
     "output_type": "stream",
     "text": [
      "Best Train Threshold 0.734\n"
     ]
    }
   ],
   "source": [
    "# Threshold tuning by testing all possible thresholds\n",
    "def to_labels(pos_probs, thresholds):\n",
    "    return (pos_probs >= thresholds).astype('int')\n",
    "y_prob_thrtr1 = rf_t.predict_proba(Xnew)[:,1]\n",
    "thr_tune_tr1 = np.arange(0,1,0.001)\n",
    "scores_tr1 = [precision_score(ynew, to_labels(y_prob_thrtr1,t)) for t in thr_tune_tr1]\n",
    "ix_tr1 = np.argmax(scores_tr1)\n",
    "opt_thrtr1 = thr_tune_tr1[ix_tr1]\n",
    "print('Best Train Threshold', opt_thrtr1)"
   ]
  },
  {
   "cell_type": "code",
   "execution_count": 342,
   "metadata": {},
   "outputs": [
    {
     "name": "stdout",
     "output_type": "stream",
     "text": [
      "Best Train Threshold 0.735\n"
     ]
    }
   ],
   "source": [
    "# Finding best threshold for test set from all possible thresholds\n",
    "y_prob_thrte1 = rf_t.predict_proba(x_test)[:,1]\n",
    "thr_tune_te1 = np.arange(0,1,0.001)\n",
    "scores_te1 = [precision_score(y_test , to_labels(y_prob_thrte1,t)) for t in thr_tune_te1]\n",
    "ix_te1 = np.argmax(scores_te1)\n",
    "opt_thrte1 = thr_tune_te1[ix_te1]\n",
    "print('Best Test Threshold', opt_thrte1)"
   ]
  },
  {
   "cell_type": "code",
   "execution_count": 408,
   "metadata": {},
   "outputs": [],
   "source": [
    "# Applying the threshold obtained from the below method.\n",
    "y_train_prec1 = []\n",
    "for i in range(0,len(y_prob_thrtr1)):\n",
    "    if np.array(y_prob_thrtr1)[i] > 0.20:\n",
    "        a=1\n",
    "    else:\n",
    "        a=0\n",
    "    y_train_prec1.append(a)\n",
    "# Testing prediction\n",
    "y_test_prec1 = []\n",
    "for i in range(0,len(y_prob_thrte1)):\n",
    "    if np.array(y_prob_thrte1)[i]> 0.20:\n",
    "        b=1\n",
    "    else:\n",
    "        b=0\n",
    "    y_test_prec1.append(b)"
   ]
  },
  {
   "cell_type": "code",
   "execution_count": 502,
   "metadata": {},
   "outputs": [
    {
     "name": "stdout",
     "output_type": "stream",
     "text": [
      "Balanced Random Forest model Threshold Tuned:\n",
      "\n",
      "              precision    recall  f1-score   support\n",
      "\n",
      "           0       0.99      0.63      0.77    100195\n",
      "           1       0.27      0.96      0.42     14138\n",
      "\n",
      "    accuracy                           0.67    114333\n",
      "   macro avg       0.63      0.80      0.60    114333\n",
      "weighted avg       0.90      0.67      0.73    114333\n",
      "\n",
      "Training Accuracy:  0.8031 \tTesting Accuracy:  0.7765\n",
      "Training Precision: 0.2839 \tTesting Precision: 0.2697\n",
      "Training Recall:    1.0 \tTesting Recall:    0.9595\n"
     ]
    }
   ],
   "source": [
    "# Printing the scores obtained\n",
    "print('Balanced Random Forest model Threshold Tuned:\\n')\n",
    "print(classification_report(y_test, y_test_prec1))\n",
    "print('Training Accuracy: ', round(rf_t.score(Xnew,ynew),4),'\\tTesting Accuracy: ',round(rf_t.score(x_test,y_test),4))\n",
    "print('Training Precision:', round(precision_score(ynew,y_train_prec1),4),'\\tTesting Precision:',round(precision_score(y_test,y_test_prec1),4))\n",
    "print('Training Recall:   ', round(recall_score(ynew,y_train_prec1),4),'\\tTesting Recall:   ',round(recall_score(y_test,y_test_prec1),4))"
   ]
  },
  {
   "cell_type": "markdown",
   "metadata": {},
   "source": [
    "We can see that, all the scores are best fitting"
   ]
  },
  {
   "cell_type": "code",
   "execution_count": 551,
   "metadata": {
    "scrolled": true
   },
   "outputs": [
    {
     "data": {
      "image/png": "[encoded data removed]",
      "text/plain": [
       "<Figure size 432x288 with 2 Axes>"
      ]
     },
     "metadata": {
      "needs_background": "light"
     },
     "output_type": "display_data"
    }
   ],
   "source": [
    "# The confusion matrix for the above model\n",
    "cmrft_bal = confusion_matrix(y_test,y_test_prec1)\n",
    "sns.heatmap(cmrft_bal, annot=True,fmt='g')\n",
    "plt.title('Random Forest Confusion Matrix')\n",
    "plt.show()"
   ]
  },
  {
   "cell_type": "code",
   "execution_count": 517,
   "metadata": {},
   "outputs": [
    {
     "name": "stdout",
     "output_type": "stream",
     "text": [
      "0.4423\n",
      "0.4211\n"
     ]
    }
   ],
   "source": [
    "print(round(f1_score(ynew,y_train_prec1),4))\n",
    "print(round(f1_score(y_test,y_test_prec1),4))"
   ]
  },
  {
   "cell_type": "code",
   "execution_count": 410,
   "metadata": {},
   "outputs": [
    {
     "name": "stdout",
     "output_type": "stream",
     "text": [
      "0.0 0.2815\n",
      "0.1 0.4997\n",
      "0.2 0.5338\n",
      "0.3 0.5571\n",
      "0.4 0.5868\n",
      "0.5 0.6157\n",
      "0.6 0.6834\n",
      "0.7 0.828\n",
      "0.8 0.0\n",
      "0.9 0.0\n"
     ]
    }
   ],
   "source": [
    "pred_tr = rf_t.predict_proba(Xnew)[:,1]\n",
    "for j in np.arange(0,1,0.1):\n",
    "    custom_prob=j\n",
    "    custom_cutoff_data=[]\n",
    "    for i in range(0,len(ynew)):\n",
    "        if np.array(pred_tr[i]) > custom_prob:\n",
    "            a=1\n",
    "        else:\n",
    "            a=0\n",
    "        custom_cutoff_data.append(a)\n",
    "    print(round(custom_prob,6),round(precision_score(ynew,custom_cutoff_data),4))"
   ]
  },
  {
   "cell_type": "code",
   "execution_count": 394,
   "metadata": {},
   "outputs": [
    {
     "name": "stdout",
     "output_type": "stream",
     "text": [
      "0.0 1.0\n",
      "0.1 0.9955\n",
      "0.2 0.974\n",
      "0.3 0.9421\n",
      "0.4 0.8896\n",
      "0.5 0.7949\n",
      "0.6 0.3962\n",
      "0.7 0.0254\n",
      "0.8 0.0\n",
      "0.9 0.0\n"
     ]
    }
   ],
   "source": [
    "pred_tr = rf_t.predict_proba(Xnew)[:,1]\n",
    "for j in np.arange(0,1,0.1):\n",
    "    custom_prob=j\n",
    "    custom_cutoff_data=[]\n",
    "    for i in range(0,len(ynew)):\n",
    "        if np.array(pred_tr[i]) > custom_prob:\n",
    "            a=1\n",
    "        else:\n",
    "            a=0\n",
    "        custom_cutoff_data.append(a)\n",
    "    print(round(custom_prob,3),round(recall_score(ynew,custom_cutoff_data),4))"
   ]
  },
  {
   "cell_type": "code",
   "execution_count": 395,
   "metadata": {},
   "outputs": [
    {
     "name": "stdout",
     "output_type": "stream",
     "text": [
      "0.0 0.1237\n",
      "0.1 0.2466\n",
      "0.2 0.2697\n",
      "0.3 0.2859\n",
      "0.4 0.3056\n",
      "0.5 0.3263\n",
      "0.6 0.3733\n",
      "0.7 0.5009\n",
      "0.8 0.0\n",
      "0.9 0.0\n"
     ]
    }
   ],
   "source": [
    "pred_te = rf_t.predict_proba(x_test)[:,1]\n",
    "for j in np.arange(0,1,0.1):\n",
    "    custom_prob=j\n",
    "    custom_cutoff_data=[]\n",
    "    for i in range(0,len(y_test)):\n",
    "        if np.array(pred_te[i]) > custom_prob:\n",
    "            a=1\n",
    "        else:\n",
    "            a=0\n",
    "        custom_cutoff_data.append(a)\n",
    "    print(round(custom_prob,3),round(precision_score(y_test,custom_cutoff_data),4))"
   ]
  },
  {
   "cell_type": "code",
   "execution_count": 396,
   "metadata": {},
   "outputs": [
    {
     "name": "stdout",
     "output_type": "stream",
     "text": [
      "0.0 1.0\n",
      "0.1 0.987\n",
      "0.2 0.9595\n",
      "0.3 0.9206\n",
      "0.4 0.8559\n",
      "0.5 0.758\n",
      "0.6 0.3814\n",
      "0.7 0.0204\n",
      "0.8 0.0\n",
      "0.9 0.0\n"
     ]
    }
   ],
   "source": [
    "pred_te = rf_t.predict_proba(x_test)[:,1]\n",
    "for j in np.arange(0,1,0.1):\n",
    "    custom_prob=j\n",
    "    custom_cutoff_data=[]\n",
    "    for i in range(0,len(y_test)):\n",
    "        if np.array(pred_te[i]) > custom_prob:\n",
    "            a=1\n",
    "        else:\n",
    "            a=0\n",
    "        custom_cutoff_data.append(a)\n",
    "    print(round(custom_prob,3),round(recall_score(y_test,custom_cutoff_data),4))"
   ]
  },
  {
   "cell_type": "markdown",
   "metadata": {},
   "source": [
    "### Ada Boost"
   ]
  },
  {
   "cell_type": "code",
   "execution_count": 106,
   "metadata": {},
   "outputs": [],
   "source": [
    "from sklearn.ensemble import AdaBoostClassifier"
   ]
  },
  {
   "cell_type": "code",
   "execution_count": 165,
   "metadata": {},
   "outputs": [
    {
     "name": "stdout",
     "output_type": "stream",
     "text": [
      "              precision    recall  f1-score   support\n",
      "\n",
      "           0       0.95      0.80      0.87    100195\n",
      "           1       0.33      0.70      0.45     14138\n",
      "\n",
      "    accuracy                           0.79    114333\n",
      "   macro avg       0.64      0.75      0.66    114333\n",
      "weighted avg       0.87      0.79      0.82    114333\n",
      "\n",
      "Training Accuracy 0.7977389269030536 \tTesting Accuracy 0.7873317414919577\n",
      "Training Precision 0.620585097977244 \tTesting Precision 0.3305809888463459\n",
      "Training Recall 0.7267039080300244 \tTesting Recall 0.7022916961380676\n"
     ]
    }
   ],
   "source": [
    "# Basic Ada Boost model\n",
    "adb= AdaBoostClassifier()\n",
    "adb= adb.fit(Xnew,ynew)\n",
    "y_pred_adb = adb.predict(x_test)\n",
    "print(classification_report(y_test,y_pred_adb))\n",
    "print('Training Accuracy', adb.score(Xnew,ynew),'\\tTesting Accuracy', adb.score(x_test,y_test))\n",
    "print('Training Precision', precision_score(ynew,adb.predict(Xnew)),'\\tTesting Precision',precision_score(y_test,y_pred_adb))\n",
    "print('Training Recall', recall_score(ynew,adb.predict(Xnew)),'\\tTesting Recall',recall_score(y_test,y_pred_adb))"
   ]
  },
  {
   "cell_type": "code",
   "execution_count": 108,
   "metadata": {},
   "outputs": [
    {
     "name": "stdout",
     "output_type": "stream",
     "text": [
      "Fitting 3 folds for each of 5 candidates, totalling 15 fits\n",
      "Best parameters for Decision Tree Classifier:  {'n_estimators': 100} \n",
      "\n"
     ]
    }
   ],
   "source": [
    "# Finding the best parameters of the model\n",
    "from sklearn.model_selection import RandomizedSearchCV\n",
    "g= {'n_estimators':[100,150,200,250,300]}\n",
    "gs= RandomizedSearchCV(AdaBoostClassifier(),\n",
    "                      param_distributions=g,\n",
    "                      n_iter=10,\n",
    "                      scoring=precision_score,\n",
    "                      cv=3,\n",
    "                      n_jobs=-1,\n",
    "                      verbose=3)\n",
    "gs.fit(Xnew,ynew)\n",
    "print('Best parameters for Decision Tree Classifier: ', gs.best_params_, '\\n')"
   ]
  },
  {
   "cell_type": "code",
   "execution_count": 503,
   "metadata": {},
   "outputs": [
    {
     "name": "stdout",
     "output_type": "stream",
     "text": [
      "Balanced Ada Boost Model Tuned:\n",
      "\n",
      "              precision    recall  f1-score   support\n",
      "\n",
      "           0       0.95      0.79      0.87    100195\n",
      "           1       0.33      0.72      0.45     14138\n",
      "\n",
      "    accuracy                           0.78    114333\n",
      "   macro avg       0.64      0.76      0.66    114333\n",
      "weighted avg       0.87      0.78      0.81    114333\n",
      "\n",
      "Training Accuracy:  0.8011 \tTesting Accuracy:  0.7849\n",
      "Training Precision: 0.6213 \tTesting Precision: 0.3297\n",
      "Training Recall:    0.7513 \tTesting Recall:    0.7153\n"
     ]
    }
   ],
   "source": [
    "# Applying the best parameters to get the tuned model\n",
    "adb_t= AdaBoostClassifier(n_estimators=100,learning_rate=1,random_state=10)\n",
    "adb_t= adb_t.fit(Xnew,ynew)\n",
    "y_pred_adb_t= adb_t.predict(x_test)\n",
    "print('Balanced Ada Boost Model Tuned:\\n')\n",
    "print(classification_report(y_test,y_pred_adb_t))\n",
    "print('Training Accuracy: ', round(adb_t.score(Xnew,ynew),4),'\\tTesting Accuracy: ',round(adb_t.score(x_test,y_test),4))\n",
    "print('Training Precision:', round(precision_score(ynew,adb_t.predict(Xnew)),4),'\\tTesting Precision:',round(precision_score(y_test,y_pred_adb_t),4))\n",
    "print('Training Recall:   ', round(recall_score(ynew,adb_t.predict(Xnew)),4),'\\tTesting Recall:   ',round(recall_score(y_test,y_pred_adb_t),4))"
   ]
  },
  {
   "cell_type": "markdown",
   "metadata": {},
   "source": [
    "We can see that the Precision alone is overfitting, so we try to tune the model using threshold tuning."
   ]
  },
  {
   "cell_type": "code",
   "execution_count": 486,
   "metadata": {},
   "outputs": [
    {
     "name": "stdout",
     "output_type": "stream",
     "text": [
      "AUC: 0.8796011290761769\n"
     ]
    },
    {
     "data": {
      "image/png": "[encoded data removed]",
      "text/plain": [
       "<Figure size 432x288 with 1 Axes>"
      ]
     },
     "metadata": {
      "needs_background": "light"
     },
     "output_type": "display_data"
    }
   ],
   "source": [
    "# Finding the roc-curve\n",
    "y_prob_tr3 = adb_t.predict_proba(Xnew)[:,1]\n",
    "auc_tr3 = roc_auc_score(ynew,y_prob_tr3)\n",
    "fpr_tr3 , tpr_tr3, thr_tr3 = roc_curve(ynew,y_prob_tr3)\n",
    "print('AUC:',auc_tr3)\n",
    "plt.plot([0,1],[0,1],linestyle='--')\n",
    "plt.plot(fpr_tr3,tpr_tr3)\n",
    "plt.show()"
   ]
  },
  {
   "cell_type": "code",
   "execution_count": 554,
   "metadata": {},
   "outputs": [
    {
     "name": "stdout",
     "output_type": "stream",
     "text": [
      "AUC: 0.8520081858200812\n"
     ]
    },
    {
     "data": {
      "image/png": "[encoded data removed]",
      "text/plain": [
       "<Figure size 432x288 with 1 Axes>"
      ]
     },
     "metadata": {
      "needs_background": "light"
     },
     "output_type": "display_data"
    }
   ],
   "source": [
    "# Finding the Roc-curve of the test set\n",
    "y_prob_te3 = adb_t.predict_proba(x_test)[:,1]\n",
    "auc_te3 = roc_auc_score(y_test,y_prob_te3)\n",
    "fpr_te3 , tpr_te3, thr_te3 = roc_curve(y_test,y_prob_te3)\n",
    "print('AUC:',auc_te3)\n",
    "plt.plot([0,1],[0,1],linestyle='--')\n",
    "plt.plot(fpr_te3,tpr_te3)\n",
    "plt.xlabel('FPR')\n",
    "plt.ylabel('TPR')\n",
    "plt.title('Ada Boost ROC-Curve')\n",
    "plt.show()"
   ]
  },
  {
   "cell_type": "code",
   "execution_count": 488,
   "metadata": {},
   "outputs": [
    {
     "name": "stdout",
     "output_type": "stream",
     "text": [
      "Best threshold train: 0.4980471883248279\n",
      "Best threshold test: 0.49753412666885416\n"
     ]
    }
   ],
   "source": [
    "# Finding the best threshold\n",
    "optimal_tr3 = np.argmax(tpr_tr3 - fpr_tr3)\n",
    "optimal_thresh_tr3 = thr_tr3[optimal_tr3]\n",
    "print('Best threshold train:',optimal_thresh_tr3)\n",
    "optimal_te3 = np.argmax(tpr_te3 - fpr_te3)\n",
    "optimal_thresh_te3 = thr_te3[optimal_te3]\n",
    "print('Best threshold test:',optimal_thresh_te3)"
   ]
  },
  {
   "cell_type": "code",
   "execution_count": 489,
   "metadata": {},
   "outputs": [],
   "source": [
    "# Applying the best threshold we got\n",
    "y_train_pr3 = []\n",
    "for i in range(0,len(y_prob_tr3)):\n",
    "    if np.array(y_prob_tr3)[i] > 0.497:\n",
    "        a=1\n",
    "    else:\n",
    "        a=0\n",
    "    y_train_pr3.append(a)\n",
    "# Testing prediction\n",
    "y_test_pr3 = []\n",
    "for i in range(0,len(y_prob_te3)):\n",
    "    if np.array(y_prob_te3)[i]> 0.497:\n",
    "        b=1\n",
    "    else:\n",
    "        b=0\n",
    "    y_test_pr3.append(b)"
   ]
  },
  {
   "cell_type": "code",
   "execution_count": 504,
   "metadata": {},
   "outputs": [
    {
     "name": "stdout",
     "output_type": "stream",
     "text": [
      "Balanced Ada Boost model Threshold Tuned:\n",
      "\n",
      "              precision    recall  f1-score   support\n",
      "\n",
      "           0       0.99      0.65      0.78    100195\n",
      "           1       0.27      0.94      0.42     14138\n",
      "\n",
      "    accuracy                           0.68    114333\n",
      "   macro avg       0.63      0.79      0.60    114333\n",
      "weighted avg       0.90      0.68      0.74    114333\n",
      "\n",
      "Training Accuracy:  0.8011 \tTesting Accuracy:  0.7849\n",
      "Training Precision: 0.2815 \tTesting Precision: 0.2742\n",
      "Training Recall:    1.0 \tTesting Recall:    0.9404\n"
     ]
    }
   ],
   "source": [
    "print('Balanced Ada Boost model Threshold Tuned:\\n')\n",
    "print(classification_report(y_test, y_test_pr3))\n",
    "print('Training Accuracy: ', round(adb_t.score(Xnew,ynew),4),'\\tTesting Accuracy: ',round(adb_t.score(x_test,y_test),4))\n",
    "print('Training Precision:', round(precision_score(ynew,y_train_pr3),4),'\\tTesting Precision:',round(precision_score(y_test,y_test_pr3),4))\n",
    "print('Training Recall:   ', round(recall_score(ynew,y_train_pr3),4),'\\tTesting Recall:   ',round(recall_score(y_test,y_test_pr3),4))"
   ]
  },
  {
   "cell_type": "markdown",
   "metadata": {},
   "source": [
    "Here, we have got the best fit model where all the scores are best fitting."
   ]
  },
  {
   "cell_type": "code",
   "execution_count": 553,
   "metadata": {},
   "outputs": [
    {
     "data": {
      "image/png": "[encoded data removed]",
      "text/plain": [
       "<Figure size 432x288 with 2 Axes>"
      ]
     },
     "metadata": {
      "needs_background": "light"
     },
     "output_type": "display_data"
    }
   ],
   "source": [
    "# Getting the confusion matrix of the above model\n",
    "cmadbt_bal = confusion_matrix(y_test,y_test_pr3)\n",
    "sns.heatmap(cmadbt_bal,annot=True,fmt='g')\n",
    "plt.title('Ada Boost Confusion Matrix')\n",
    "plt.show()"
   ]
  },
  {
   "cell_type": "code",
   "execution_count": 518,
   "metadata": {},
   "outputs": [
    {
     "name": "stdout",
     "output_type": "stream",
     "text": [
      "0.4393\n",
      "0.4246\n"
     ]
    }
   ],
   "source": [
    "print(round(f1_score(ynew,y_train_pr3),4))\n",
    "print(round(f1_score(y_test,y_test_pr3),4))"
   ]
  },
  {
   "cell_type": "code",
   "execution_count": 491,
   "metadata": {},
   "outputs": [
    {
     "name": "stdout",
     "output_type": "stream",
     "text": [
      "0.0 0.2815\n",
      "0.1 0.2815\n",
      "0.2 0.2815\n",
      "0.3 0.2815\n",
      "0.4 0.2815\n",
      "0.5 0.6213\n",
      "0.6 0.0\n",
      "0.7 0.0\n",
      "0.8 0.0\n",
      "0.9 0.0\n"
     ]
    }
   ],
   "source": [
    "pred_tr = adb_t.predict_proba(Xnew)[:,1]\n",
    "for j in np.arange(0,1,0.1):\n",
    "    custom_prob=j\n",
    "    custom_cutoff_data=[]\n",
    "    for i in range(0,len(ynew)):\n",
    "        if np.array(pred_tr[i]) > custom_prob:\n",
    "            a=1\n",
    "        else:\n",
    "            a=0\n",
    "        custom_cutoff_data.append(a)\n",
    "    print(round(custom_prob,6),round(precision_score(ynew,custom_cutoff_data),4))"
   ]
  },
  {
   "cell_type": "code",
   "execution_count": 420,
   "metadata": {},
   "outputs": [
    {
     "name": "stdout",
     "output_type": "stream",
     "text": [
      "0.0 1.0\n",
      "0.1 1.0\n",
      "0.2 1.0\n",
      "0.3 1.0\n",
      "0.4 1.0\n",
      "0.5 0.752\n",
      "0.6 0.0\n",
      "0.7 0.0\n",
      "0.8 0.0\n",
      "0.9 0.0\n"
     ]
    }
   ],
   "source": [
    "pred_tr = adb_t.predict_proba(Xnew)[:,1]\n",
    "for j in np.arange(0,1,0.1):\n",
    "    custom_prob=j\n",
    "    custom_cutoff_data=[]\n",
    "    for i in range(0,len(ynew)):\n",
    "        if np.array(pred_tr[i]) > custom_prob:\n",
    "            a=1\n",
    "        else:\n",
    "            a=0\n",
    "        custom_cutoff_data.append(a)\n",
    "    print(round(custom_prob,6),round(recall_score(ynew,custom_cutoff_data),4))"
   ]
  },
  {
   "cell_type": "code",
   "execution_count": 492,
   "metadata": {},
   "outputs": [
    {
     "name": "stdout",
     "output_type": "stream",
     "text": [
      "0.0 0.1237\n",
      "0.1 0.1237\n",
      "0.2 0.1237\n",
      "0.3 0.1237\n",
      "0.4 0.1237\n",
      "0.5 0.3297\n",
      "0.6 0.0\n",
      "0.7 0.0\n",
      "0.8 0.0\n",
      "0.9 0.0\n"
     ]
    }
   ],
   "source": [
    "pred_te = adb_t.predict_proba(x_test)[:,1]\n",
    "for j in np.arange(0,1,0.1):\n",
    "    custom_prob=j\n",
    "    custom_cutoff_data=[]\n",
    "    for i in range(0,len(y_test)):\n",
    "        if np.array(pred_te[i]) > custom_prob:\n",
    "            a=1\n",
    "        else:\n",
    "            a=0\n",
    "        custom_cutoff_data.append(a)\n",
    "    print(round(custom_prob,6),round(precision_score(y_test,custom_cutoff_data),4))"
   ]
  },
  {
   "cell_type": "code",
   "execution_count": 494,
   "metadata": {},
   "outputs": [
    {
     "name": "stdout",
     "output_type": "stream",
     "text": [
      "0.0 1.0\n",
      "0.1 1.0\n",
      "0.2 1.0\n",
      "0.3 1.0\n",
      "0.4 1.0\n",
      "0.5 0.7153\n",
      "0.6 0.0\n",
      "0.7 0.0\n",
      "0.8 0.0\n",
      "0.9 0.0\n"
     ]
    }
   ],
   "source": [
    "pred_te = adb_t.predict_proba(x_test)[:,1]\n",
    "for j in np.arange(0,1,0.1):\n",
    "    custom_prob=j\n",
    "    custom_cutoff_data=[]\n",
    "    for i in range(0,len(y_test)):\n",
    "        if np.array(pred_te[i]) > custom_prob:\n",
    "            a=1\n",
    "        else:\n",
    "            a=0\n",
    "        custom_cutoff_data.append(a)\n",
    "    print(round(custom_prob,6),round(recall_score(y_test,custom_cutoff_data),4))"
   ]
  },
  {
   "cell_type": "markdown",
   "metadata": {},
   "source": [
    "### Gradient Boost"
   ]
  },
  {
   "cell_type": "code",
   "execution_count": 118,
   "metadata": {},
   "outputs": [],
   "source": [
    "from sklearn.ensemble import GradientBoostingClassifier"
   ]
  },
  {
   "cell_type": "code",
   "execution_count": 172,
   "metadata": {},
   "outputs": [
    {
     "name": "stdout",
     "output_type": "stream",
     "text": [
      "              precision    recall  f1-score   support\n",
      "\n",
      "           0       0.95      0.80      0.87    100195\n",
      "           1       0.33      0.72      0.46     14138\n",
      "\n",
      "    accuracy                           0.79    114333\n",
      "   macro avg       0.64      0.76      0.66    114333\n",
      "weighted avg       0.88      0.79      0.82    114333\n",
      "\n",
      "Training Accuracy 0.8082945132466415 \tTesting Accuracy 0.7863084148933379\n",
      "Training Precision 0.6296626221330383 \tTesting Precision 0.3323561982932708\n",
      "Training Recall 0.7766443449799336 \tTesting Recall 0.721742820766728\n"
     ]
    }
   ],
   "source": [
    "# Basic gradient boost model\n",
    "gb= GradientBoostingClassifier()\n",
    "gb= gb.fit(Xnew,ynew)\n",
    "y_pred_gb= gb.predict(x_test)\n",
    "print(classification_report(y_test,y_pred_gb))\n",
    "print('Training Accuracy', gb.score(Xnew,ynew),'\\tTesting Accuracy', gb.score(x_test,y_test))\n",
    "print('Training Precision', precision_score(ynew,gb.predict(Xnew)),'\\tTesting Precision',precision_score(y_test,y_pred_gb))\n",
    "print('Training Recall', recall_score(ynew,gb.predict(Xnew)),'\\tTesting Recall',recall_score(y_test,y_pred_gb))"
   ]
  },
  {
   "cell_type": "code",
   "execution_count": 120,
   "metadata": {},
   "outputs": [
    {
     "name": "stdout",
     "output_type": "stream",
     "text": [
      "Fitting 3 folds for each of 10 candidates, totalling 30 fits\n",
      "Best parameters for Decision Tree Classifier:  {'n_estimators': 200, 'min_samples_split': 3, 'min_samples_leaf': 5, 'max_depth': 10} \n",
      "\n"
     ]
    }
   ],
   "source": [
    "# Finding the best parameters using randomized search\n",
    "from sklearn.model_selection import RandomizedSearchCV\n",
    "g= {'n_estimators':[100,150,200,250,300],\n",
    "   'min_samples_split': [3,4,5,6,7],\n",
    "   'max_depth': [5,6,7,8,9,10],\n",
    "   'min_samples_leaf': [4,5,6,7,8,9]}\n",
    "gs= RandomizedSearchCV(GradientBoostingClassifier(),\n",
    "                      param_distributions=g,\n",
    "                      n_iter=10,\n",
    "                      scoring=precision_score,\n",
    "                      cv=3,\n",
    "                      n_jobs=-1,\n",
    "                      verbose=3)\n",
    "gs.fit(Xnew,ynew)\n",
    "print('Best parameters for Decision Tree Classifier: ', gs.best_params_, '\\n')"
   ]
  },
  {
   "cell_type": "code",
   "execution_count": 506,
   "metadata": {},
   "outputs": [
    {
     "name": "stdout",
     "output_type": "stream",
     "text": [
      "Balanced Gradient Boost Model Tuned:\n",
      "\n",
      "              precision    recall  f1-score   support\n",
      "\n",
      "           0       0.92      0.88      0.90    100195\n",
      "           1       0.35      0.47      0.40     14138\n",
      "\n",
      "    accuracy                           0.83    114333\n",
      "   macro avg       0.64      0.67      0.65    114333\n",
      "weighted avg       0.85      0.83      0.84    114333\n",
      "\n",
      "Training Accuracy:  0.8804 \tTesting Accuracy:  0.8279\n",
      "Training Precision: 0.7839 \tTesting Precision: 0.3533\n",
      "Training Recall:    0.7937 \tTesting Recall:    0.4715\n"
     ]
    }
   ],
   "source": [
    "# Applying the best parameter to the tuned model\n",
    "gb_t = GradientBoostingClassifier(learning_rate=0.1,n_estimators=200, min_samples_split=3,\n",
    "                                  min_samples_leaf=5,max_depth=10,random_state=10,)\n",
    "gb_t = gb_t.fit(Xnew,ynew)\n",
    "y_pred_gb_t = gb_t.predict(x_test)\n",
    "print('Balanced Gradient Boost Model Tuned:\\n')\n",
    "print(classification_report(y_test,y_pred_gb_t))\n",
    "print('Training Accuracy: ', round(gb_t.score(Xnew,ynew),4),'\\tTesting Accuracy: ',round(gb_t.score(x_test,y_test),4))\n",
    "print('Training Precision:', round(precision_score(ynew,gb_t.predict(Xnew)),4),'\\tTesting Precision:',round(precision_score(y_test,y_pred_gb_t),4))\n",
    "print('Training Recall:   ', round(recall_score(ynew,gb_t.predict(Xnew)),4),'\\tTesting Recall:   ',round(recall_score(y_test,y_pred_gb_t),4))"
   ]
  },
  {
   "cell_type": "markdown",
   "metadata": {},
   "source": [
    "Here, the scores are overfitting so we tune the threshold to get the best scores."
   ]
  },
  {
   "cell_type": "code",
   "execution_count": 437,
   "metadata": {},
   "outputs": [
    {
     "name": "stdout",
     "output_type": "stream",
     "text": [
      "AUC: 0.953940770008342\n"
     ]
    },
    {
     "data": {
      "image/png": "[encoded data removed]",
      "text/plain": [
       "<Figure size 432x288 with 1 Axes>"
      ]
     },
     "metadata": {
      "needs_background": "light"
     },
     "output_type": "display_data"
    }
   ],
   "source": [
    "# Roc-curve of train set\n",
    "y_prob_tr4 = gb_t.predict_proba(Xnew)[:,1]\n",
    "auc_tr4 = roc_auc_score(ynew,y_prob_tr4)\n",
    "fpr_tr4 , tpr_tr4, thr_tr4 = roc_curve(ynew,y_prob_tr4)\n",
    "print('AUC:',auc_tr4)\n",
    "plt.plot([0,1],[0,1],linestyle='--')\n",
    "plt.plot(fpr_tr4,tpr_tr4)\n",
    "plt.show()"
   ]
  },
  {
   "cell_type": "code",
   "execution_count": 555,
   "metadata": {},
   "outputs": [
    {
     "name": "stdout",
     "output_type": "stream",
     "text": [
      "AUC: 0.848259243252006\n"
     ]
    },
    {
     "data": {
      "image/png": "[encoded data removed]",
      "text/plain": [
       "<Figure size 432x288 with 1 Axes>"
      ]
     },
     "metadata": {
      "needs_background": "light"
     },
     "output_type": "display_data"
    }
   ],
   "source": [
    "# Roc-curve of test set\n",
    "y_prob_te4 = gb_t.predict_proba(x_test)[:,1]\n",
    "auc_te4 = roc_auc_score(y_test,y_prob_te4)\n",
    "fpr_te4 , tpr_te4, thr_te4 = roc_curve(y_test,y_prob_te4)\n",
    "print('AUC:',auc_te4)\n",
    "plt.plot([0,1],[0,1],linestyle='--')\n",
    "plt.plot(fpr_te4,tpr_te4)\n",
    "plt.xlabel('FPR')\n",
    "plt.ylabel('TPR')\n",
    "plt.title('Gradient Boost ROC-Curve')\n",
    "plt.show()"
   ]
  },
  {
   "cell_type": "code",
   "execution_count": 439,
   "metadata": {},
   "outputs": [
    {
     "name": "stdout",
     "output_type": "stream",
     "text": [
      "Best threshold train: 0.3540451168595653\n",
      "Best threshold test: 0.14784182848845165\n"
     ]
    }
   ],
   "source": [
    "# Finding the best threshold\n",
    "optimal_tr4 = np.argmax(tpr_tr4 - fpr_tr4)\n",
    "optimal_thresh_tr4 = thr_tr4[optimal_tr4]\n",
    "print('Best threshold train:',optimal_thresh_tr4)\n",
    "optimal_te4 = np.argmax(tpr_te4 - fpr_te4)\n",
    "optimal_thresh_te4 = thr_te4[optimal_te4]\n",
    "print('Best threshold test:',optimal_thresh_te4)"
   ]
  },
  {
   "cell_type": "code",
   "execution_count": 440,
   "metadata": {},
   "outputs": [],
   "source": [
    "y_train_pr4 = []\n",
    "for i in range(0,len(y_prob_tr4)):\n",
    "    if np.array(y_prob_tr4)[i] > 0.1:\n",
    "        a=1\n",
    "    else:\n",
    "        a=0\n",
    "    y_train_pr4.append(a)\n",
    "# Testing prediction\n",
    "y_test_pr4 = []\n",
    "for i in range(0,len(y_prob_te4)):\n",
    "    if np.array(y_prob_te4)[i]> 0.1:\n",
    "        b=1\n",
    "    else:\n",
    "        b=0\n",
    "    y_test_pr4.append(b)"
   ]
  },
  {
   "cell_type": "code",
   "execution_count": 520,
   "metadata": {},
   "outputs": [
    {
     "name": "stdout",
     "output_type": "stream",
     "text": [
      "Balanced Gradient Boost Model Threshold Tuned:\n",
      "\n",
      "              precision    recall  f1-score   support\n",
      "\n",
      "           0       0.99      0.62      0.77    100195\n",
      "           1       0.26      0.96      0.41     14138\n",
      "\n",
      "    accuracy                           0.67    114333\n",
      "   macro avg       0.63      0.79      0.59    114333\n",
      "weighted avg       0.90      0.67      0.72    114333\n",
      "\n",
      "Training Accuracy:  0.8804 \tTesting Accuracy:  0.8279\n",
      "Training Precision: 0.2815 \tTesting Precision: 0.2647\n",
      "Training Recall:    1.0 \tTesting Recall:    0.9593\n"
     ]
    }
   ],
   "source": [
    "print('Balanced Gradient Boost Model Threshold Tuned:\\n')\n",
    "print(classification_report(y_test, y_test_pr4))\n",
    "print('Training Accuracy: ', round(gb_t.score(Xnew,ynew),4),'\\tTesting Accuracy: ',round(gb_t.score(x_test,y_test),4))\n",
    "print('Training Precision:', round(precision_score(ynew,y_train_pr4),4),'\\tTesting Precision:',round(precision_score(y_test,y_test_pr4),4))\n",
    "print('Training Recall:   ', round(recall_score(ynew,y_train_pr4),4),'\\tTesting Recall:   ',round(recall_score(y_test,y_test_pr4),4))"
   ]
  },
  {
   "cell_type": "markdown",
   "metadata": {},
   "source": [
    "Now, we can see that all the models are best fit."
   ]
  },
  {
   "cell_type": "code",
   "execution_count": 556,
   "metadata": {},
   "outputs": [
    {
     "data": {
      "image/png": "[encoded data removed]",
      "text/plain": [
       "<Figure size 432x288 with 2 Axes>"
      ]
     },
     "metadata": {
      "needs_background": "light"
     },
     "output_type": "display_data"
    }
   ],
   "source": [
    "# Confusion matrix of the above model\n",
    "cmgbt_bal = confusion_matrix(y_test,y_test_pr4)\n",
    "sns.heatmap(cmgbt_bal,annot=True,fmt='g')\n",
    "plt.title('Gradient Boost Confusion Matrix')\n",
    "plt.show()"
   ]
  },
  {
   "cell_type": "code",
   "execution_count": 521,
   "metadata": {},
   "outputs": [
    {
     "name": "stdout",
     "output_type": "stream",
     "text": [
      "0.4393\n",
      "0.4149\n"
     ]
    }
   ],
   "source": [
    "print(round(f1_score(ynew,y_train_pr4),4))\n",
    "print(round(f1_score(y_test,y_test_pr4),4))"
   ]
  },
  {
   "cell_type": "code",
   "execution_count": 435,
   "metadata": {},
   "outputs": [
    {
     "name": "stdout",
     "output_type": "stream",
     "text": [
      "0.0 0.2815\n",
      "0.1 0.5372\n",
      "0.2 0.5986\n",
      "0.3 0.654\n",
      "0.4 0.7074\n",
      "0.5 0.7785\n",
      "0.6 0.8769\n",
      "0.7 0.9658\n",
      "0.8 0.9987\n",
      "0.9 0.9999\n"
     ]
    }
   ],
   "source": [
    "pred_tr = gb_t.predict_proba(Xnew)[:,1]\n",
    "for j in np.arange(0,1,0.1):\n",
    "    custom_prob=j\n",
    "    custom_cutoff_data=[]\n",
    "    for i in range(0,len(ynew)):\n",
    "        if np.array(pred_tr[i]) > custom_prob:\n",
    "            a=1\n",
    "        else:\n",
    "            a=0\n",
    "        custom_cutoff_data.append(a)\n",
    "    print(round(custom_prob,6),round(precision_score(ynew,custom_cutoff_data),4))"
   ]
  },
  {
   "cell_type": "code",
   "execution_count": 425,
   "metadata": {},
   "outputs": [
    {
     "name": "stdout",
     "output_type": "stream",
     "text": [
      "0.0 1.0\n",
      "0.1 0.9951\n",
      "0.2 0.9718\n",
      "0.3 0.9336\n",
      "0.4 0.881\n",
      "0.5 0.7772\n",
      "0.6 0.5964\n",
      "0.7 0.4246\n",
      "0.8 0.3363\n",
      "0.9 0.2678\n"
     ]
    }
   ],
   "source": [
    "pred_tr = gb_t.predict_proba(Xnew)[:,1]\n",
    "for j in np.arange(0,1,0.1):\n",
    "    custom_prob=j\n",
    "    custom_cutoff_data=[]\n",
    "    for i in range(0,len(ynew)):\n",
    "        if np.array(pred_tr[i]) > custom_prob:\n",
    "            a=1\n",
    "        else:\n",
    "            a=0\n",
    "        custom_cutoff_data.append(a)\n",
    "    print(round(custom_prob,6),round(recall_score(ynew,custom_cutoff_data),4))"
   ]
  },
  {
   "cell_type": "code",
   "execution_count": 426,
   "metadata": {},
   "outputs": [
    {
     "name": "stdout",
     "output_type": "stream",
     "text": [
      "0.0 0.1237\n",
      "0.1 0.2647\n",
      "0.2 0.2938\n",
      "0.3 0.3173\n",
      "0.4 0.3334\n",
      "0.5 0.3548\n",
      "0.6 0.3897\n",
      "0.7 0.4192\n",
      "0.8 0.4667\n",
      "0.9 1.0\n"
     ]
    }
   ],
   "source": [
    "pred_te = gb_t.predict_proba(x_test)[:,1]\n",
    "for j in np.arange(0,1,0.1):\n",
    "    custom_prob=j\n",
    "    custom_cutoff_data=[]\n",
    "    for i in range(0,len(y_test)):\n",
    "        if np.array(pred_te[i]) > custom_prob:\n",
    "            a=1\n",
    "        else:\n",
    "            a=0\n",
    "        custom_cutoff_data.append(a)\n",
    "    print(round(custom_prob,3),round(precision_score(y_test,custom_cutoff_data),4))"
   ]
  },
  {
   "cell_type": "code",
   "execution_count": 428,
   "metadata": {},
   "outputs": [
    {
     "name": "stdout",
     "output_type": "stream",
     "text": [
      "0.0 1.0\n",
      "0.1 0.9588\n",
      "0.2 0.8743\n",
      "0.3 0.7722\n",
      "0.4 0.6457\n",
      "0.5 0.4714\n",
      "0.6 0.2497\n",
      "0.7 0.0748\n",
      "0.8 0.005\n",
      "0.9 0.0001\n"
     ]
    }
   ],
   "source": [
    "pred_te = gb_t.predict_proba(x_test)[:,1]\n",
    "for j in np.arange(0,1,0.1):\n",
    "    custom_prob=j\n",
    "    custom_cutoff_data=[]\n",
    "    for i in range(0,len(y_test)):\n",
    "        if np.array(pred_te[i]) > custom_prob:\n",
    "            a=1\n",
    "        else:\n",
    "            a=0\n",
    "        custom_cutoff_data.append(a)\n",
    "    print(round(custom_prob,3),round(recall_score(y_test,custom_cutoff_data),4))"
   ]
  },
  {
   "cell_type": "markdown",
   "metadata": {},
   "source": [
    "### XGboost"
   ]
  },
  {
   "cell_type": "code",
   "execution_count": 181,
   "metadata": {},
   "outputs": [],
   "source": [
    "import xgboost\n",
    "from xgboost import XGBClassifier"
   ]
  },
  {
   "cell_type": "code",
   "execution_count": 182,
   "metadata": {},
   "outputs": [
    {
     "name": "stdout",
     "output_type": "stream",
     "text": [
      "[19:51:19] WARNING: C:/Users/Administrator/workspace/xgboost-win64_release_1.4.0/src/learner.cc:1095: Starting in XGBoost 1.3.0, the default evaluation metric used with the objective 'binary:logistic' was changed from 'error' to 'logloss'. Explicitly set eval_metric if you'd like to restore the old behavior.\n",
      "              precision    recall  f1-score   support\n",
      "\n",
      "           0       0.93      0.87      0.90    100195\n",
      "           1       0.36      0.50      0.42     14138\n",
      "\n",
      "    accuracy                           0.83    114333\n",
      "   macro avg       0.64      0.69      0.66    114333\n",
      "weighted avg       0.86      0.83      0.84    114333\n",
      "\n",
      "Training Accuracy 0.8554262820408336 \tTesting Accuracy 0.8265417683433479\n",
      "Training Precision 0.7391916759433855 \tTesting Precision 0.3571213489912677\n",
      "Training Recall 0.752622509050114 \tTesting Recall 0.5033243740274438\n"
     ]
    }
   ],
   "source": [
    "# Basic xgboost model\n",
    "xgb= XGBClassifier()\n",
    "xgb= xgb.fit(Xnew,ynew)\n",
    "y_pred_xgb= xgb.predict(x_test)\n",
    "print(classification_report(y_test,y_pred_xgb))\n",
    "print('Training Accuracy', xgb.score(Xnew,ynew),'\\tTesting Accuracy', xgb.score(x_test,y_test))\n",
    "print('Training Precision', precision_score(ynew,xgb.predict(Xnew)),'\\tTesting Precision',precision_score(y_test,y_pred_xgb))\n",
    "print('Training Recall', recall_score(ynew,xgb.predict(Xnew)),'\\tTesting Recall',recall_score(y_test,y_pred_xgb))"
   ]
  },
  {
   "cell_type": "code",
   "execution_count": 72,
   "metadata": {},
   "outputs": [
    {
     "data": {
      "text/plain": [
       "<bound method XGBModel.get_params of XGBClassifier(base_score=0.5, booster='gbtree', colsample_bylevel=1,\n",
       "              colsample_bynode=1, colsample_bytree=1, gamma=0, gpu_id=-1,\n",
       "              importance_type='gain', interaction_constraints='',\n",
       "              learning_rate=0.300000012, max_delta_step=0, max_depth=6,\n",
       "              min_child_weight=1, missing=nan, monotone_constraints='()',\n",
       "              n_estimators=100, n_jobs=4, num_parallel_tree=1, random_state=0,\n",
       "              reg_alpha=0, reg_lambda=1, scale_pos_weight=1, subsample=1,\n",
       "              tree_method='exact', validate_parameters=1, verbosity=None)>"
      ]
     },
     "execution_count": 72,
     "metadata": {},
     "output_type": "execute_result"
    }
   ],
   "source": [
    "xgb.get_params"
   ]
  },
  {
   "cell_type": "code",
   "execution_count": 73,
   "metadata": {},
   "outputs": [
    {
     "name": "stdout",
     "output_type": "stream",
     "text": [
      "Fitting 3 folds for each of 10 candidates, totalling 30 fits\n",
      "[13:35:47] WARNING: C:/Users/Administrator/workspace/xgboost-win64_release_1.4.0/src/learner.cc:1095: Starting in XGBoost 1.3.0, the default evaluation metric used with the objective 'binary:logistic' was changed from 'error' to 'logloss'. Explicitly set eval_metric if you'd like to restore the old behavior.\n",
      "Best parameters for Decision Tree Classifier:  {'n_estimators': 300, 'max_depth': 10} \n",
      "\n"
     ]
    }
   ],
   "source": [
    "# Finding the best parameters of the model using randomized search\n",
    "from sklearn.model_selection import RandomizedSearchCV\n",
    "g= {'n_estimators':[100,150,200,250,300],\n",
    "   'max_depth': [5,6,7,8,9,10],\n",
    "   }\n",
    "gs= RandomizedSearchCV(XGBClassifier(),\n",
    "                      param_distributions=g,\n",
    "                      n_iter=10,\n",
    "                      scoring=precision_score,\n",
    "                      cv=3,\n",
    "                      n_jobs=-1,\n",
    "                      verbose=3)\n",
    "gs.fit(Xnew,ynew)\n",
    "print('Best parameters for Decision Tree Classifier: ', gs.best_params_, '\\n')"
   ]
  },
  {
   "cell_type": "code",
   "execution_count": 510,
   "metadata": {},
   "outputs": [
    {
     "name": "stdout",
     "output_type": "stream",
     "text": [
      "[23:31:30] WARNING: C:/Users/Administrator/workspace/xgboost-win64_release_1.4.0/src/learner.cc:1095: Starting in XGBoost 1.3.0, the default evaluation metric used with the objective 'binary:logistic' was changed from 'error' to 'logloss'. Explicitly set eval_metric if you'd like to restore the old behavior.\n",
      "Balanced Xgboost model Tuned:\n",
      "\n",
      "              precision    recall  f1-score   support\n",
      "\n",
      "           0       0.91      0.89      0.90    100195\n",
      "           1       0.34      0.41      0.37     14138\n",
      "\n",
      "    accuracy                           0.83    114333\n",
      "   macro avg       0.63      0.65      0.64    114333\n",
      "weighted avg       0.84      0.83      0.84    114333\n",
      "\n",
      "Training Accuracy:  0.9137 \tTesting Accuracy:  0.8291\n",
      "Training Precision: 0.8494 \tTesting Precision: 0.342\n",
      "Training Recall:    0.8427 \tTesting Recall:    0.4131\n"
     ]
    }
   ],
   "source": [
    "# Applying those parameters to tune the model\n",
    "xgb_t= XGBClassifier(n_estimators=300,max_depth=10)\n",
    "xgb_t = xgb_t.fit(Xnew,ynew)\n",
    "y_pred_xgb_t = xgb_t.predict(x_test)\n",
    "print('Balanced Xgboost model Tuned:\\n')\n",
    "print(classification_report(y_test,y_pred_xgb_t))\n",
    "print('Training Accuracy: ', round(xgb_t.score(Xnew,ynew),4),'\\tTesting Accuracy: ',round(xgb_t.score(x_test,y_test),4))\n",
    "print('Training Precision:', round(precision_score(ynew,xgb_t.predict(Xnew)),4),'\\tTesting Precision:',round(precision_score(y_test,y_pred_xgb_t),4))\n",
    "print('Training Recall:   ', round(recall_score(ynew,xgb_t.predict(Xnew)),4),'\\tTesting Recall:   ',round(recall_score(y_test,y_pred_xgb_t),4))"
   ]
  },
  {
   "cell_type": "markdown",
   "metadata": {},
   "source": [
    "Here, we can see that the scores are overfitting, so we try to tune the thresholds."
   ]
  },
  {
   "cell_type": "code",
   "execution_count": 452,
   "metadata": {},
   "outputs": [
    {
     "name": "stdout",
     "output_type": "stream",
     "text": [
      "AUC: 0.9741380737334411\n"
     ]
    },
    {
     "data": {
      "image/png": "[encoded data removed]",
      "text/plain": [
       "<Figure size 432x288 with 1 Axes>"
      ]
     },
     "metadata": {
      "needs_background": "light"
     },
     "output_type": "display_data"
    }
   ],
   "source": [
    "# Finding the roc-curve of train set\n",
    "y_prob_tr5 = xgb_t.predict_proba(Xnew)[:,1]\n",
    "auc_tr5 = roc_auc_score(ynew,y_prob_tr5)\n",
    "fpr_tr5 , tpr_tr5, thr_tr5 = roc_curve(ynew,y_prob_tr5)\n",
    "print('AUC:',auc_tr5)\n",
    "plt.plot([0,1],[0,1],linestyle='--')\n",
    "plt.plot(fpr_tr5,tpr_tr5)\n",
    "plt.show()"
   ]
  },
  {
   "cell_type": "code",
   "execution_count": 557,
   "metadata": {},
   "outputs": [
    {
     "name": "stdout",
     "output_type": "stream",
     "text": [
      "AUC: 0.8401014054564176\n"
     ]
    },
    {
     "data": {
      "image/png": "[encoded data removed]",
      "text/plain": [
       "<Figure size 432x288 with 1 Axes>"
      ]
     },
     "metadata": {
      "needs_background": "light"
     },
     "output_type": "display_data"
    }
   ],
   "source": [
    "# Finding the roc-curve of the test set\n",
    "y_prob_te5 = xgb_t.predict_proba(x_test)[:,1]\n",
    "auc_te5 = roc_auc_score(y_test,y_prob_te5)\n",
    "fpr_te5 , tpr_te5, thr_te5 = roc_curve(y_test,y_prob_te5)\n",
    "print('AUC:',auc_te5)\n",
    "plt.plot([0,1],[0,1],linestyle='--')\n",
    "plt.plot(fpr_te5,tpr_te5)\n",
    "plt.xlabel('FPR')\n",
    "plt.ylabel('TPR')\n",
    "plt.title('XG Boost ROC-Curve')\n",
    "plt.show()"
   ]
  },
  {
   "cell_type": "code",
   "execution_count": 454,
   "metadata": {},
   "outputs": [
    {
     "name": "stdout",
     "output_type": "stream",
     "text": [
      "Best threshold train: 0.36463955\n",
      "Best threshold test: 0.07242761\n"
     ]
    }
   ],
   "source": [
    "# Finding the best threshold\n",
    "optimal_tr5 = np.argmax(tpr_tr5 - fpr_tr5)\n",
    "optimal_thresh_tr5 = thr_tr5[optimal_tr5]\n",
    "print('Best threshold train:',optimal_thresh_tr5)\n",
    "optimal_te5 = np.argmax(tpr_te5 - fpr_te5)\n",
    "optimal_thresh_te5 = thr_te5[optimal_te5]\n",
    "print('Best threshold test:',optimal_thresh_te5)"
   ]
  },
  {
   "cell_type": "code",
   "execution_count": 455,
   "metadata": {},
   "outputs": [],
   "source": [
    "# Applying the threshold obtained to the model\n",
    "y_train_pr5 = []\n",
    "for i in range(0,len(y_prob_tr5)):\n",
    "    if np.array(y_prob_tr5)[i] > 0.1:\n",
    "        a=1\n",
    "    else:\n",
    "        a=0\n",
    "    y_train_pr5.append(a)\n",
    "# Testing prediction\n",
    "y_test_pr5 = []\n",
    "for i in range(0,len(y_prob_te5)):\n",
    "    if np.array(y_prob_te5)[i]> 0.1:\n",
    "        b=1\n",
    "    else:\n",
    "        b=0\n",
    "    y_test_pr5.append(b)"
   ]
  },
  {
   "cell_type": "code",
   "execution_count": 511,
   "metadata": {},
   "outputs": [
    {
     "name": "stdout",
     "output_type": "stream",
     "text": [
      "Balanced XGBoost Classifier Threshold Tuned:\n",
      "\n",
      "              precision    recall  f1-score   support\n",
      "\n",
      "           0       0.98      0.66      0.79    100195\n",
      "           1       0.28      0.91      0.42     14138\n",
      "\n",
      "    accuracy                           0.69    114333\n",
      "   macro avg       0.63      0.79      0.61    114333\n",
      "weighted avg       0.89      0.69      0.74    114333\n",
      "\n",
      "Training Accuracy:  0.91366 \tTesting Accuracy:  0.82915\n",
      "Training Precision: 0.29442 \tTesting Precision: 0.2751\n",
      "Training Recall:    1.0 \tTesting Recall:    0.91406\n"
     ]
    }
   ],
   "source": [
    "print('Balanced XGBoost Classifier Threshold Tuned:\\n')\n",
    "print(classification_report(y_test, y_test_pr5))\n",
    "print('Training Accuracy: ', round(xgb_t.score(Xnew,ynew),5),'\\tTesting Accuracy: ',round(xgb_t.score(x_test,y_test),5))\n",
    "print('Training Precision:', round(precision_score(ynew,y_train_pr5),5),'\\tTesting Precision:',round(precision_score(y_test,y_test_pr5),5))\n",
    "print('Training Recall:   ', round(recall_score(ynew,y_train_pr5),5),'\\tTesting Recall:   ',round(recall_score(y_test,y_test_pr5),5))"
   ]
  },
  {
   "cell_type": "markdown",
   "metadata": {},
   "source": [
    "Here, the scores are all best fit."
   ]
  },
  {
   "cell_type": "code",
   "execution_count": 558,
   "metadata": {},
   "outputs": [
    {
     "data": {
      "image/png": "[encoded data removed]",
      "text/plain": [
       "<Figure size 432x288 with 2 Axes>"
      ]
     },
     "metadata": {
      "needs_background": "light"
     },
     "output_type": "display_data"
    }
   ],
   "source": [
    "# Finding the confusion matrix of the above model\n",
    "cmxgbt_bal = confusion_matrix(y_test,y_test_pr5)\n",
    "sns.heatmap(cmxgbt_bal,annot=True,fmt='g')\n",
    "plt.title('XGBoost Confusion Matrix')\n",
    "plt.show()"
   ]
  },
  {
   "cell_type": "code",
   "execution_count": 522,
   "metadata": {
    "scrolled": false
   },
   "outputs": [
    {
     "name": "stdout",
     "output_type": "stream",
     "text": [
      "0.4549\n",
      "0.4229\n"
     ]
    }
   ],
   "source": [
    "print(round(f1_score(ynew,y_train_pr5),4))\n",
    "print(round(f1_score(y_test,y_test_pr5),4))"
   ]
  },
  {
   "cell_type": "code",
   "execution_count": 448,
   "metadata": {},
   "outputs": [
    {
     "name": "stdout",
     "output_type": "stream",
     "text": [
      "0.0 0.2815\n",
      "0.1 0.569\n",
      "0.2 0.6397\n",
      "0.3 0.7034\n",
      "0.4 0.7611\n",
      "0.5 0.8307\n",
      "0.6 0.9079\n",
      "0.7 0.9663\n",
      "0.8 0.993\n",
      "0.9 0.9995\n"
     ]
    }
   ],
   "source": [
    "pred_tr = xgb_t.predict_proba(Xnew)[:,1]\n",
    "for j in np.arange(0,1,0.1):\n",
    "    custom_prob=j\n",
    "    custom_cutoff_data=[]\n",
    "    for i in range(0,len(ynew)):\n",
    "        if np.array(pred_tr[i]) > custom_prob:\n",
    "            a=1\n",
    "        else:\n",
    "            a=0\n",
    "        custom_cutoff_data.append(a)\n",
    "    print(round(custom_prob,6),round(precision_score(ynew,custom_cutoff_data),4))"
   ]
  },
  {
   "cell_type": "code",
   "execution_count": 443,
   "metadata": {},
   "outputs": [
    {
     "name": "stdout",
     "output_type": "stream",
     "text": [
      "0.0 1.0\n",
      "0.1 0.9915\n",
      "0.2 0.9697\n",
      "0.3 0.9355\n",
      "0.4 0.8849\n",
      "0.5 0.7899\n",
      "0.6 0.6442\n",
      "0.7 0.5024\n",
      "0.8 0.391\n",
      "0.9 0.3395\n"
     ]
    }
   ],
   "source": [
    "pred_tr = xgb_t.predict_proba(Xnew)[:,1]\n",
    "for j in np.arange(0,1,0.1):\n",
    "    custom_prob=j\n",
    "    custom_cutoff_data=[]\n",
    "    for i in range(0,len(ynew)):\n",
    "        if np.array(pred_tr[i]) > custom_prob:\n",
    "            a=1\n",
    "        else:\n",
    "            a=0\n",
    "        custom_cutoff_data.append(a)\n",
    "    print(round(custom_prob,6),round(recall_score(ynew,custom_cutoff_data),4))"
   ]
  },
  {
   "cell_type": "code",
   "execution_count": 444,
   "metadata": {},
   "outputs": [
    {
     "name": "stdout",
     "output_type": "stream",
     "text": [
      "0.0 0.1237\n",
      "0.1 0.2748\n",
      "0.2 0.2988\n",
      "0.3 0.3166\n",
      "0.4 0.3304\n",
      "0.5 0.3447\n",
      "0.6 0.3656\n",
      "0.7 0.3807\n",
      "0.8 0.4091\n",
      "0.9 0.479\n"
     ]
    }
   ],
   "source": [
    "pred_te = xgb_t.predict_proba(x_test)[:,1]\n",
    "for j in np.arange(0,1,0.1):\n",
    "    custom_prob=j\n",
    "    custom_cutoff_data=[]\n",
    "    for i in range(0,len(y_test)):\n",
    "        if np.array(pred_te[i]) > custom_prob:\n",
    "            a=1\n",
    "        else:\n",
    "            a=0\n",
    "        custom_cutoff_data.append(a)\n",
    "    print(round(custom_prob,3),round(precision_score(y_test,custom_cutoff_data),4))"
   ]
  },
  {
   "cell_type": "code",
   "execution_count": 445,
   "metadata": {},
   "outputs": [
    {
     "name": "stdout",
     "output_type": "stream",
     "text": [
      "0.0 1.0\n",
      "0.1 0.9147\n",
      "0.2 0.808\n",
      "0.3 0.6954\n",
      "0.4 0.573\n",
      "0.5 0.4146\n",
      "0.6 0.245\n",
      "0.7 0.1116\n",
      "0.8 0.0339\n",
      "0.9 0.004\n"
     ]
    }
   ],
   "source": [
    "pred_te = xgb_t.predict_proba(x_test)[:,1]\n",
    "for j in np.arange(0,1,0.1):\n",
    "    custom_prob=j\n",
    "    custom_cutoff_data=[]\n",
    "    for i in range(0,len(y_test)):\n",
    "        if np.array(pred_te[i]) > custom_prob:\n",
    "            a=1\n",
    "        else:\n",
    "            a=0\n",
    "        custom_cutoff_data.append(a)\n",
    "    print(round(custom_prob,3),round(recall_score(y_test,custom_cutoff_data),4))"
   ]
  },
  {
   "cell_type": "markdown",
   "metadata": {},
   "source": [
    "### Cat Boost"
   ]
  },
  {
   "cell_type": "code",
   "execution_count": 193,
   "metadata": {},
   "outputs": [],
   "source": [
    "from catboost import CatBoostClassifier"
   ]
  },
  {
   "cell_type": "code",
   "execution_count": 194,
   "metadata": {
    "scrolled": true
   },
   "outputs": [
    {
     "name": "stdout",
     "output_type": "stream",
     "text": [
      "              precision    recall  f1-score   support\n",
      "\n",
      "           0       0.92      0.89      0.90    100195\n",
      "           1       0.36      0.45      0.40     14138\n",
      "\n",
      "    accuracy                           0.83    114333\n",
      "   macro avg       0.64      0.67      0.65    114333\n",
      "weighted avg       0.85      0.83      0.84    114333\n",
      "\n",
      "Training Accuracy 0.8576951789201225 \tTesting Accuracy 0.8340111778751541\n",
      "Training Precision 0.7612532343894938 \tTesting Precision 0.3611111111111111\n",
      "Training Recall 0.7213605819830448 \tTesting Recall 0.44504173150374876\n"
     ]
    }
   ],
   "source": [
    "# Basic cat boost model\n",
    "cb= CatBoostClassifier(silent=True)\n",
    "cb= cb.fit(Xnew,ynew)\n",
    "y_pred_cb= cb.predict(x_test)\n",
    "print(classification_report(y_test,y_pred_cb))\n",
    "print('Training Accuracy', cb.score(Xnew,ynew),'\\tTesting Accuracy', cb.score(x_test,y_test))\n",
    "print('Training Precision', precision_score(ynew,cb.predict(Xnew)),'\\tTesting Precision',precision_score(y_test,y_pred_cb))\n",
    "print('Training Recall', recall_score(ynew,cb.predict(Xnew)),'\\tTesting Recall',recall_score(y_test,y_pred_cb))"
   ]
  },
  {
   "cell_type": "code",
   "execution_count": 196,
   "metadata": {
    "collapsed": true
   },
   "outputs": [
    {
     "name": "stdout",
     "output_type": "stream",
     "text": [
      "Learning rate set to 0.358323\n",
      "0:\tlearn: 0.4173141\ttotal: 213ms\tremaining: 1m 3s\n",
      "1:\tlearn: 0.3770926\ttotal: 4.79s\tremaining: 11m 53s\n",
      "2:\tlearn: 0.3624959\ttotal: 9.97s\tremaining: 16m 26s\n",
      "3:\tlearn: 0.3570728\ttotal: 10.1s\tremaining: 12m 30s\n",
      "4:\tlearn: 0.3508395\ttotal: 15.5s\tremaining: 15m 16s\n",
      "5:\tlearn: 0.3448018\ttotal: 20.4s\tremaining: 16m 38s\n",
      "6:\tlearn: 0.3408130\ttotal: 25.1s\tremaining: 17m 29s\n",
      "7:\tlearn: 0.3372374\ttotal: 29.8s\tremaining: 18m 9s\n",
      "8:\tlearn: 0.3361672\ttotal: 30s\tremaining: 16m 8s\n",
      "9:\tlearn: 0.3315359\ttotal: 35s\tremaining: 16m 53s\n",
      "10:\tlearn: 0.3289232\ttotal: 39.8s\tremaining: 17m 25s\n",
      "11:\tlearn: 0.3258246\ttotal: 44.9s\tremaining: 17m 57s\n",
      "12:\tlearn: 0.3230912\ttotal: 45.1s\tremaining: 16m 35s\n",
      "13:\tlearn: 0.3227803\ttotal: 45.3s\tremaining: 15m 24s\n",
      "14:\tlearn: 0.3197718\ttotal: 50s\tremaining: 15m 49s\n",
      "15:\tlearn: 0.3172203\ttotal: 54.7s\tremaining: 16m 11s\n",
      "16:\tlearn: 0.3136244\ttotal: 59.7s\tremaining: 16m 33s\n",
      "17:\tlearn: 0.3095325\ttotal: 1m 4s\tremaining: 16m 49s\n",
      "18:\tlearn: 0.3075916\ttotal: 1m 9s\tremaining: 17m 6s\n",
      "19:\tlearn: 0.3062485\ttotal: 1m 9s\tremaining: 16m 13s\n",
      "20:\tlearn: 0.3057213\ttotal: 1m 9s\tremaining: 15m 24s\n",
      "21:\tlearn: 0.3042128\ttotal: 1m 15s\tremaining: 15m 55s\n",
      "22:\tlearn: 0.3015658\ttotal: 1m 20s\tremaining: 16m 13s\n",
      "23:\tlearn: 0.2998339\ttotal: 1m 26s\tremaining: 16m 32s\n",
      "24:\tlearn: 0.2988859\ttotal: 1m 26s\tremaining: 15m 50s\n",
      "25:\tlearn: 0.2974933\ttotal: 1m 31s\tremaining: 16m 1s\n",
      "26:\tlearn: 0.2953228\ttotal: 1m 36s\tremaining: 16m 16s\n",
      "27:\tlearn: 0.2938668\ttotal: 1m 41s\tremaining: 16m 26s\n",
      "28:\tlearn: 0.2933270\ttotal: 1m 41s\tremaining: 15m 50s\n",
      "29:\tlearn: 0.2916539\ttotal: 1m 46s\tremaining: 16m\n",
      "30:\tlearn: 0.2904308\ttotal: 1m 51s\tremaining: 16m 7s\n",
      "31:\tlearn: 0.2886652\ttotal: 1m 56s\tremaining: 16m 18s\n",
      "32:\tlearn: 0.2877057\ttotal: 2m 1s\tremaining: 16m 25s\n",
      "33:\tlearn: 0.2865240\ttotal: 2m 6s\tremaining: 16m 31s\n",
      "34:\tlearn: 0.2855406\ttotal: 2m 11s\tremaining: 16m 36s\n",
      "35:\tlearn: 0.2847234\ttotal: 2m 16s\tremaining: 16m 41s\n",
      "36:\tlearn: 0.2838738\ttotal: 2m 21s\tremaining: 16m 45s\n",
      "37:\tlearn: 0.2829591\ttotal: 2m 26s\tremaining: 16m 47s\n",
      "38:\tlearn: 0.2819640\ttotal: 2m 31s\tremaining: 16m 51s\n",
      "39:\tlearn: 0.2793960\ttotal: 2m 36s\tremaining: 16m 55s\n",
      "40:\tlearn: 0.2778982\ttotal: 2m 41s\tremaining: 16m 59s\n",
      "41:\tlearn: 0.2771437\ttotal: 2m 46s\tremaining: 17m 3s\n",
      "42:\tlearn: 0.2758859\ttotal: 2m 51s\tremaining: 17m 5s\n",
      "43:\tlearn: 0.2746315\ttotal: 2m 57s\tremaining: 17m 14s\n",
      "44:\tlearn: 0.2737500\ttotal: 3m 2s\tremaining: 17m 16s\n",
      "45:\tlearn: 0.2722925\ttotal: 3m 7s\tremaining: 17m 17s\n",
      "46:\tlearn: 0.2713582\ttotal: 3m 13s\tremaining: 17m 19s\n",
      "47:\tlearn: 0.2704531\ttotal: 3m 17s\tremaining: 17m 18s\n",
      "48:\tlearn: 0.2695907\ttotal: 3m 22s\tremaining: 17m 17s\n",
      "49:\tlearn: 0.2687580\ttotal: 3m 27s\tremaining: 17m 18s\n",
      "50:\tlearn: 0.2679125\ttotal: 3m 32s\tremaining: 17m 18s\n",
      "51:\tlearn: 0.2673399\ttotal: 3m 37s\tremaining: 17m 16s\n",
      "52:\tlearn: 0.2667918\ttotal: 3m 42s\tremaining: 17m 15s\n",
      "53:\tlearn: 0.2664017\ttotal: 3m 46s\tremaining: 17m 12s\n",
      "54:\tlearn: 0.2657619\ttotal: 3m 51s\tremaining: 17m 11s\n",
      "55:\tlearn: 0.2651710\ttotal: 3m 56s\tremaining: 17m 8s\n",
      "56:\tlearn: 0.2642766\ttotal: 4m\tremaining: 17m 6s\n",
      "57:\tlearn: 0.2638295\ttotal: 4m 5s\tremaining: 17m 4s\n",
      "58:\tlearn: 0.2625578\ttotal: 4m 10s\tremaining: 17m 5s\n",
      "59:\tlearn: 0.2614175\ttotal: 4m 15s\tremaining: 17m 2s\n",
      "60:\tlearn: 0.2605349\ttotal: 4m 20s\tremaining: 16m 59s\n",
      "61:\tlearn: 0.2598062\ttotal: 4m 25s\tremaining: 16m 57s\n",
      "62:\tlearn: 0.2591267\ttotal: 4m 30s\tremaining: 16m 56s\n",
      "63:\tlearn: 0.2584762\ttotal: 4m 34s\tremaining: 16m 52s\n",
      "64:\tlearn: 0.2579658\ttotal: 4m 39s\tremaining: 16m 49s\n",
      "65:\tlearn: 0.2572819\ttotal: 4m 44s\tremaining: 16m 47s\n",
      "66:\tlearn: 0.2566104\ttotal: 4m 48s\tremaining: 16m 44s\n",
      "67:\tlearn: 0.2560023\ttotal: 4m 53s\tremaining: 16m 41s\n",
      "68:\tlearn: 0.2554448\ttotal: 4m 58s\tremaining: 16m 39s\n",
      "69:\tlearn: 0.2551427\ttotal: 5m 3s\tremaining: 16m 36s\n",
      "70:\tlearn: 0.2543643\ttotal: 5m 7s\tremaining: 16m 32s\n",
      "71:\tlearn: 0.2539477\ttotal: 5m 12s\tremaining: 16m 28s\n",
      "72:\tlearn: 0.2529832\ttotal: 5m 16s\tremaining: 16m 24s\n",
      "73:\tlearn: 0.2525471\ttotal: 5m 20s\tremaining: 16m 20s\n",
      "74:\tlearn: 0.2518034\ttotal: 5m 25s\tremaining: 16m 16s\n",
      "75:\tlearn: 0.2512728\ttotal: 5m 29s\tremaining: 16m 11s\n",
      "76:\tlearn: 0.2504264\ttotal: 5m 34s\tremaining: 16m 8s\n",
      "77:\tlearn: 0.2498448\ttotal: 5m 39s\tremaining: 16m 6s\n",
      "78:\tlearn: 0.2494569\ttotal: 5m 44s\tremaining: 16m 3s\n",
      "79:\tlearn: 0.2490490\ttotal: 5m 49s\tremaining: 15m 59s\n",
      "80:\tlearn: 0.2484957\ttotal: 5m 53s\tremaining: 15m 55s\n",
      "81:\tlearn: 0.2481166\ttotal: 5m 57s\tremaining: 15m 51s\n",
      "82:\tlearn: 0.2474683\ttotal: 6m 2s\tremaining: 15m 47s\n",
      "83:\tlearn: 0.2471480\ttotal: 6m 6s\tremaining: 15m 43s\n",
      "84:\tlearn: 0.2467475\ttotal: 6m 11s\tremaining: 15m 40s\n",
      "85:\tlearn: 0.2464251\ttotal: 6m 16s\tremaining: 15m 36s\n",
      "86:\tlearn: 0.2458430\ttotal: 6m 20s\tremaining: 15m 32s\n",
      "87:\tlearn: 0.2453252\ttotal: 6m 25s\tremaining: 15m 27s\n",
      "88:\tlearn: 0.2450549\ttotal: 6m 29s\tremaining: 15m 23s\n",
      "89:\tlearn: 0.2444712\ttotal: 6m 33s\tremaining: 15m 19s\n",
      "90:\tlearn: 0.2441913\ttotal: 6m 38s\tremaining: 15m 14s\n",
      "91:\tlearn: 0.2437881\ttotal: 6m 42s\tremaining: 15m 10s\n",
      "92:\tlearn: 0.2431872\ttotal: 6m 47s\tremaining: 15m 6s\n",
      "93:\tlearn: 0.2423528\ttotal: 6m 51s\tremaining: 15m 1s\n",
      "94:\tlearn: 0.2420685\ttotal: 6m 55s\tremaining: 14m 57s\n",
      "95:\tlearn: 0.2417896\ttotal: 7m\tremaining: 14m 52s\n",
      "96:\tlearn: 0.2414704\ttotal: 7m 4s\tremaining: 14m 48s\n",
      "97:\tlearn: 0.2410603\ttotal: 7m 8s\tremaining: 14m 44s\n",
      "98:\tlearn: 0.2408502\ttotal: 7m 13s\tremaining: 14m 39s\n",
      "99:\tlearn: 0.2403027\ttotal: 7m 17s\tremaining: 14m 35s\n",
      "100:\tlearn: 0.2398636\ttotal: 7m 22s\tremaining: 14m 31s\n",
      "101:\tlearn: 0.2394823\ttotal: 7m 26s\tremaining: 14m 26s\n",
      "102:\tlearn: 0.2388093\ttotal: 7m 31s\tremaining: 14m 22s\n",
      "103:\tlearn: 0.2381456\ttotal: 7m 35s\tremaining: 14m 18s\n",
      "104:\tlearn: 0.2378704\ttotal: 7m 39s\tremaining: 14m 13s\n",
      "105:\tlearn: 0.2373305\ttotal: 7m 44s\tremaining: 14m 9s\n",
      "106:\tlearn: 0.2369793\ttotal: 7m 48s\tremaining: 14m 5s\n",
      "107:\tlearn: 0.2365289\ttotal: 7m 52s\tremaining: 14m\n",
      "108:\tlearn: 0.2362708\ttotal: 7m 57s\tremaining: 13m 56s\n",
      "109:\tlearn: 0.2359957\ttotal: 8m 1s\tremaining: 13m 52s\n",
      "110:\tlearn: 0.2357581\ttotal: 8m 6s\tremaining: 13m 47s\n",
      "111:\tlearn: 0.2355024\ttotal: 8m 10s\tremaining: 13m 43s\n",
      "112:\tlearn: 0.2352389\ttotal: 8m 14s\tremaining: 13m 38s\n",
      "113:\tlearn: 0.2348502\ttotal: 8m 19s\tremaining: 13m 34s\n",
      "114:\tlearn: 0.2346102\ttotal: 8m 23s\tremaining: 13m 29s\n",
      "115:\tlearn: 0.2342837\ttotal: 8m 27s\tremaining: 13m 25s\n",
      "116:\tlearn: 0.2339899\ttotal: 8m 32s\tremaining: 13m 21s\n",
      "117:\tlearn: 0.2337332\ttotal: 8m 36s\tremaining: 13m 16s\n",
      "118:\tlearn: 0.2332761\ttotal: 8m 41s\tremaining: 13m 12s\n",
      "119:\tlearn: 0.2329521\ttotal: 8m 45s\tremaining: 13m 8s\n",
      "120:\tlearn: 0.2324348\ttotal: 8m 49s\tremaining: 13m 3s\n",
      "121:\tlearn: 0.2321364\ttotal: 8m 54s\tremaining: 12m 59s\n",
      "122:\tlearn: 0.2316180\ttotal: 8m 58s\tremaining: 12m 55s\n",
      "123:\tlearn: 0.2310712\ttotal: 9m 3s\tremaining: 12m 50s\n",
      "124:\tlearn: 0.2307720\ttotal: 9m 7s\tremaining: 12m 46s\n",
      "125:\tlearn: 0.2304692\ttotal: 9m 11s\tremaining: 12m 41s\n",
      "126:\tlearn: 0.2302482\ttotal: 9m 16s\tremaining: 12m 37s\n",
      "127:\tlearn: 0.2300490\ttotal: 9m 20s\tremaining: 12m 33s\n",
      "128:\tlearn: 0.2297331\ttotal: 9m 24s\tremaining: 12m 28s\n",
      "129:\tlearn: 0.2294053\ttotal: 9m 29s\tremaining: 12m 24s\n",
      "130:\tlearn: 0.2290221\ttotal: 9m 33s\tremaining: 12m 20s\n",
      "131:\tlearn: 0.2286806\ttotal: 9m 37s\tremaining: 12m 15s\n",
      "132:\tlearn: 0.2284713\ttotal: 9m 42s\tremaining: 12m 11s\n",
      "133:\tlearn: 0.2282389\ttotal: 9m 46s\tremaining: 12m 6s\n",
      "134:\tlearn: 0.2278694\ttotal: 9m 51s\tremaining: 12m 2s\n",
      "135:\tlearn: 0.2275026\ttotal: 9m 55s\tremaining: 11m 58s\n",
      "136:\tlearn: 0.2271398\ttotal: 9m 59s\tremaining: 11m 53s\n",
      "137:\tlearn: 0.2268373\ttotal: 10m 4s\tremaining: 11m 49s\n",
      "138:\tlearn: 0.2266581\ttotal: 10m 8s\tremaining: 11m 45s\n",
      "139:\tlearn: 0.2264888\ttotal: 10m 13s\tremaining: 11m 40s\n",
      "140:\tlearn: 0.2262270\ttotal: 10m 17s\tremaining: 11m 36s\n",
      "141:\tlearn: 0.2258378\ttotal: 10m 22s\tremaining: 11m 32s\n",
      "142:\tlearn: 0.2255566\ttotal: 10m 26s\tremaining: 11m 27s\n",
      "143:\tlearn: 0.2252212\ttotal: 10m 30s\tremaining: 11m 23s\n",
      "144:\tlearn: 0.2247239\ttotal: 10m 35s\tremaining: 11m 18s\n",
      "145:\tlearn: 0.2245170\ttotal: 10m 39s\tremaining: 11m 14s\n",
      "146:\tlearn: 0.2243394\ttotal: 10m 43s\tremaining: 11m 10s\n",
      "147:\tlearn: 0.2241685\ttotal: 10m 48s\tremaining: 11m 5s\n",
      "148:\tlearn: 0.2237415\ttotal: 10m 52s\tremaining: 11m 1s\n",
      "149:\tlearn: 0.2235055\ttotal: 10m 56s\tremaining: 10m 56s\n",
      "150:\tlearn: 0.2232325\ttotal: 11m 1s\tremaining: 10m 52s\n",
      "151:\tlearn: 0.2228671\ttotal: 11m 5s\tremaining: 10m 47s\n",
      "152:\tlearn: 0.2225585\ttotal: 11m 9s\tremaining: 10m 43s\n",
      "153:\tlearn: 0.2221324\ttotal: 11m 14s\tremaining: 10m 39s\n",
      "154:\tlearn: 0.2216724\ttotal: 11m 18s\tremaining: 10m 34s\n",
      "155:\tlearn: 0.2211719\ttotal: 11m 22s\tremaining: 10m 30s\n",
      "156:\tlearn: 0.2207776\ttotal: 11m 27s\tremaining: 10m 25s\n",
      "157:\tlearn: 0.2204270\ttotal: 11m 31s\tremaining: 10m 21s\n",
      "158:\tlearn: 0.2200948\ttotal: 11m 35s\tremaining: 10m 17s\n",
      "159:\tlearn: 0.2198549\ttotal: 11m 40s\tremaining: 10m 12s\n",
      "160:\tlearn: 0.2196437\ttotal: 11m 44s\tremaining: 10m 8s\n",
      "161:\tlearn: 0.2193466\ttotal: 11m 48s\tremaining: 10m 3s\n",
      "162:\tlearn: 0.2191616\ttotal: 11m 53s\tremaining: 9m 59s\n",
      "163:\tlearn: 0.2188576\ttotal: 11m 57s\tremaining: 9m 55s\n",
      "164:\tlearn: 0.2185064\ttotal: 12m 2s\tremaining: 9m 51s\n",
      "165:\tlearn: 0.2181836\ttotal: 12m 6s\tremaining: 9m 46s\n",
      "166:\tlearn: 0.2178747\ttotal: 12m 11s\tremaining: 9m 42s\n",
      "167:\tlearn: 0.2176530\ttotal: 12m 15s\tremaining: 9m 38s\n",
      "168:\tlearn: 0.2175184\ttotal: 12m 19s\tremaining: 9m 33s\n",
      "169:\tlearn: 0.2173169\ttotal: 12m 24s\tremaining: 9m 29s\n",
      "170:\tlearn: 0.2171191\ttotal: 12m 28s\tremaining: 9m 24s\n",
      "171:\tlearn: 0.2168738\ttotal: 12m 32s\tremaining: 9m 20s\n",
      "172:\tlearn: 0.2166864\ttotal: 12m 37s\tremaining: 9m 15s\n",
      "173:\tlearn: 0.2163833\ttotal: 12m 41s\tremaining: 9m 11s\n",
      "174:\tlearn: 0.2159227\ttotal: 12m 45s\tremaining: 9m 7s\n",
      "175:\tlearn: 0.2157701\ttotal: 12m 50s\tremaining: 9m 2s\n",
      "176:\tlearn: 0.2153934\ttotal: 12m 54s\tremaining: 8m 58s\n",
      "177:\tlearn: 0.2152228\ttotal: 12m 58s\tremaining: 8m 53s\n",
      "178:\tlearn: 0.2149954\ttotal: 13m 3s\tremaining: 8m 49s\n",
      "179:\tlearn: 0.2146805\ttotal: 13m 7s\tremaining: 8m 44s\n",
      "180:\tlearn: 0.2143129\ttotal: 13m 11s\tremaining: 8m 40s\n",
      "181:\tlearn: 0.2141779\ttotal: 13m 16s\tremaining: 8m 36s\n",
      "182:\tlearn: 0.2139422\ttotal: 13m 20s\tremaining: 8m 31s\n",
      "183:\tlearn: 0.2137433\ttotal: 13m 24s\tremaining: 8m 27s\n",
      "184:\tlearn: 0.2134297\ttotal: 13m 29s\tremaining: 8m 22s\n",
      "185:\tlearn: 0.2131629\ttotal: 13m 33s\tremaining: 8m 18s\n",
      "186:\tlearn: 0.2128062\ttotal: 13m 37s\tremaining: 8m 14s\n",
      "187:\tlearn: 0.2123213\ttotal: 13m 42s\tremaining: 8m 9s\n",
      "188:\tlearn: 0.2118251\ttotal: 13m 46s\tremaining: 8m 5s\n",
      "189:\tlearn: 0.2114888\ttotal: 13m 50s\tremaining: 8m 1s\n",
      "190:\tlearn: 0.2110783\ttotal: 13m 55s\tremaining: 7m 56s\n",
      "191:\tlearn: 0.2106918\ttotal: 13m 59s\tremaining: 7m 52s\n",
      "192:\tlearn: 0.2105024\ttotal: 14m 4s\tremaining: 7m 48s\n",
      "193:\tlearn: 0.2101985\ttotal: 14m 8s\tremaining: 7m 43s\n",
      "194:\tlearn: 0.2098726\ttotal: 14m 12s\tremaining: 7m 39s\n",
      "195:\tlearn: 0.2097578\ttotal: 14m 17s\tremaining: 7m 34s\n",
      "196:\tlearn: 0.2094019\ttotal: 14m 21s\tremaining: 7m 30s\n",
      "197:\tlearn: 0.2092417\ttotal: 14m 26s\tremaining: 7m 26s\n",
      "198:\tlearn: 0.2091074\ttotal: 14m 30s\tremaining: 7m 21s\n",
      "199:\tlearn: 0.2087544\ttotal: 14m 34s\tremaining: 7m 17s\n",
      "200:\tlearn: 0.2086096\ttotal: 14m 39s\tremaining: 7m 12s\n",
      "201:\tlearn: 0.2082448\ttotal: 14m 43s\tremaining: 7m 8s\n",
      "202:\tlearn: 0.2078672\ttotal: 14m 47s\tremaining: 7m 4s\n",
      "203:\tlearn: 0.2076312\ttotal: 14m 52s\tremaining: 6m 59s\n",
      "204:\tlearn: 0.2074658\ttotal: 14m 56s\tremaining: 6m 55s\n",
      "205:\tlearn: 0.2073395\ttotal: 15m\tremaining: 6m 51s\n",
      "206:\tlearn: 0.2070628\ttotal: 15m 5s\tremaining: 6m 46s\n",
      "207:\tlearn: 0.2068533\ttotal: 15m 9s\tremaining: 6m 42s\n",
      "208:\tlearn: 0.2065202\ttotal: 15m 13s\tremaining: 6m 37s\n",
      "209:\tlearn: 0.2060730\ttotal: 15m 18s\tremaining: 6m 33s\n",
      "210:\tlearn: 0.2057711\ttotal: 15m 22s\tremaining: 6m 29s\n",
      "211:\tlearn: 0.2056434\ttotal: 15m 27s\tremaining: 6m 24s\n",
      "212:\tlearn: 0.2052869\ttotal: 15m 31s\tremaining: 6m 20s\n",
      "213:\tlearn: 0.2051726\ttotal: 15m 36s\tremaining: 6m 16s\n",
      "214:\tlearn: 0.2050489\ttotal: 15m 40s\tremaining: 6m 11s\n",
      "215:\tlearn: 0.2048907\ttotal: 15m 44s\tremaining: 6m 7s\n",
      "216:\tlearn: 0.2047637\ttotal: 15m 49s\tremaining: 6m 3s\n",
      "217:\tlearn: 0.2044653\ttotal: 15m 53s\tremaining: 5m 58s\n",
      "218:\tlearn: 0.2043189\ttotal: 15m 58s\tremaining: 5m 54s\n",
      "219:\tlearn: 0.2040860\ttotal: 16m 2s\tremaining: 5m 50s\n",
      "220:\tlearn: 0.2039607\ttotal: 16m 7s\tremaining: 5m 45s\n",
      "221:\tlearn: 0.2036979\ttotal: 16m 11s\tremaining: 5m 41s\n",
      "222:\tlearn: 0.2033273\ttotal: 16m 16s\tremaining: 5m 37s\n",
      "223:\tlearn: 0.2031572\ttotal: 16m 20s\tremaining: 5m 32s\n",
      "224:\tlearn: 0.2029380\ttotal: 16m 24s\tremaining: 5m 28s\n",
      "225:\tlearn: 0.2027728\ttotal: 16m 29s\tremaining: 5m 23s\n",
      "226:\tlearn: 0.2026386\ttotal: 16m 33s\tremaining: 5m 19s\n",
      "227:\tlearn: 0.2024822\ttotal: 16m 37s\tremaining: 5m 15s\n",
      "228:\tlearn: 0.2023867\ttotal: 16m 42s\tremaining: 5m 10s\n",
      "229:\tlearn: 0.2022109\ttotal: 16m 46s\tremaining: 5m 6s\n",
      "230:\tlearn: 0.2018368\ttotal: 16m 50s\tremaining: 5m 1s\n",
      "231:\tlearn: 0.2017390\ttotal: 16m 55s\tremaining: 4m 57s\n",
      "232:\tlearn: 0.2014729\ttotal: 16m 59s\tremaining: 4m 53s\n",
      "233:\tlearn: 0.2011965\ttotal: 17m 4s\tremaining: 4m 48s\n",
      "234:\tlearn: 0.2009146\ttotal: 17m 8s\tremaining: 4m 44s\n",
      "235:\tlearn: 0.2006673\ttotal: 17m 12s\tremaining: 4m 40s\n",
      "236:\tlearn: 0.2004816\ttotal: 17m 17s\tremaining: 4m 35s\n",
      "237:\tlearn: 0.2003207\ttotal: 17m 21s\tremaining: 4m 31s\n",
      "238:\tlearn: 0.2000097\ttotal: 17m 25s\tremaining: 4m 26s\n",
      "239:\tlearn: 0.1998383\ttotal: 17m 30s\tremaining: 4m 22s\n",
      "240:\tlearn: 0.1995498\ttotal: 17m 34s\tremaining: 4m 18s\n",
      "241:\tlearn: 0.1993634\ttotal: 17m 38s\tremaining: 4m 13s\n",
      "242:\tlearn: 0.1990523\ttotal: 17m 43s\tremaining: 4m 9s\n",
      "243:\tlearn: 0.1987835\ttotal: 17m 47s\tremaining: 4m 5s\n",
      "244:\tlearn: 0.1985717\ttotal: 17m 51s\tremaining: 4m\n",
      "245:\tlearn: 0.1982624\ttotal: 17m 56s\tremaining: 3m 56s\n",
      "246:\tlearn: 0.1980244\ttotal: 18m\tremaining: 3m 51s\n",
      "247:\tlearn: 0.1978610\ttotal: 18m 4s\tremaining: 3m 47s\n",
      "248:\tlearn: 0.1977451\ttotal: 18m 9s\tremaining: 3m 43s\n",
      "249:\tlearn: 0.1975905\ttotal: 18m 13s\tremaining: 3m 38s\n",
      "250:\tlearn: 0.1973551\ttotal: 18m 18s\tremaining: 3m 34s\n",
      "251:\tlearn: 0.1971427\ttotal: 18m 22s\tremaining: 3m 30s\n",
      "252:\tlearn: 0.1970205\ttotal: 18m 26s\tremaining: 3m 25s\n",
      "253:\tlearn: 0.1968789\ttotal: 18m 31s\tremaining: 3m 21s\n",
      "254:\tlearn: 0.1967241\ttotal: 18m 35s\tremaining: 3m 16s\n",
      "255:\tlearn: 0.1966065\ttotal: 18m 39s\tremaining: 3m 12s\n",
      "256:\tlearn: 0.1964548\ttotal: 18m 44s\tremaining: 3m 8s\n",
      "257:\tlearn: 0.1963256\ttotal: 18m 48s\tremaining: 3m 3s\n",
      "258:\tlearn: 0.1961109\ttotal: 18m 53s\tremaining: 2m 59s\n",
      "259:\tlearn: 0.1959709\ttotal: 18m 57s\tremaining: 2m 55s\n",
      "260:\tlearn: 0.1958814\ttotal: 19m 2s\tremaining: 2m 50s\n",
      "261:\tlearn: 0.1956027\ttotal: 19m 6s\tremaining: 2m 46s\n",
      "262:\tlearn: 0.1954793\ttotal: 19m 10s\tremaining: 2m 41s\n",
      "263:\tlearn: 0.1952314\ttotal: 19m 15s\tremaining: 2m 37s\n",
      "264:\tlearn: 0.1950274\ttotal: 19m 19s\tremaining: 2m 33s\n",
      "265:\tlearn: 0.1947939\ttotal: 19m 23s\tremaining: 2m 28s\n",
      "266:\tlearn: 0.1944794\ttotal: 19m 28s\tremaining: 2m 24s\n",
      "267:\tlearn: 0.1942604\ttotal: 19m 32s\tremaining: 2m 20s\n",
      "268:\tlearn: 0.1941177\ttotal: 19m 37s\tremaining: 2m 15s\n",
      "269:\tlearn: 0.1939214\ttotal: 19m 41s\tremaining: 2m 11s\n",
      "270:\tlearn: 0.1936641\ttotal: 19m 45s\tremaining: 2m 6s\n",
      "271:\tlearn: 0.1934819\ttotal: 19m 50s\tremaining: 2m 2s\n",
      "272:\tlearn: 0.1932262\ttotal: 19m 54s\tremaining: 1m 58s\n",
      "273:\tlearn: 0.1928951\ttotal: 19m 58s\tremaining: 1m 53s\n",
      "274:\tlearn: 0.1926864\ttotal: 20m 3s\tremaining: 1m 49s\n",
      "275:\tlearn: 0.1925096\ttotal: 20m 7s\tremaining: 1m 45s\n",
      "276:\tlearn: 0.1924208\ttotal: 20m 12s\tremaining: 1m 40s\n",
      "277:\tlearn: 0.1921479\ttotal: 20m 16s\tremaining: 1m 36s\n",
      "278:\tlearn: 0.1920607\ttotal: 20m 20s\tremaining: 1m 31s\n",
      "279:\tlearn: 0.1918678\ttotal: 20m 25s\tremaining: 1m 27s\n",
      "280:\tlearn: 0.1915956\ttotal: 20m 29s\tremaining: 1m 23s\n",
      "281:\tlearn: 0.1913266\ttotal: 20m 33s\tremaining: 1m 18s\n",
      "282:\tlearn: 0.1912138\ttotal: 20m 38s\tremaining: 1m 14s\n",
      "283:\tlearn: 0.1910071\ttotal: 20m 42s\tremaining: 1m 10s\n",
      "284:\tlearn: 0.1908983\ttotal: 20m 47s\tremaining: 1m 5s\n",
      "285:\tlearn: 0.1907822\ttotal: 20m 51s\tremaining: 1m 1s\n",
      "286:\tlearn: 0.1905971\ttotal: 20m 55s\tremaining: 56.9s\n",
      "287:\tlearn: 0.1903780\ttotal: 20m 59s\tremaining: 52.5s\n",
      "288:\tlearn: 0.1902034\ttotal: 21m 4s\tremaining: 48.1s\n",
      "289:\tlearn: 0.1898935\ttotal: 21m 8s\tremaining: 43.7s\n",
      "290:\tlearn: 0.1897051\ttotal: 21m 12s\tremaining: 39.4s\n",
      "291:\tlearn: 0.1895734\ttotal: 21m 17s\tremaining: 35s\n",
      "292:\tlearn: 0.1893821\ttotal: 21m 21s\tremaining: 30.6s\n",
      "293:\tlearn: 0.1891859\ttotal: 21m 25s\tremaining: 26.2s\n",
      "294:\tlearn: 0.1889986\ttotal: 21m 29s\tremaining: 21.9s\n",
      "295:\tlearn: 0.1887610\ttotal: 21m 34s\tremaining: 17.5s\n",
      "296:\tlearn: 0.1886337\ttotal: 21m 38s\tremaining: 13.1s\n",
      "297:\tlearn: 0.1885563\ttotal: 21m 42s\tremaining: 8.74s\n",
      "298:\tlearn: 0.1883283\ttotal: 21m 46s\tremaining: 4.37s\n",
      "299:\tlearn: 0.1880113\ttotal: 21m 51s\tremaining: 0us\n",
      "Best parameters for Decision Tree Classifier:  {'iterations': 300, 'depth': 16} \n",
      "\n"
     ]
    }
   ],
   "source": [
    "# Using randomized search to find the best parameters\n",
    "from sklearn.model_selection import RandomizedSearchCV\n",
    "g= {'depth': [10,14,16,18,20],\n",
    "    'iterations': [50,80,120,150,200,300]\n",
    "    }\n",
    "gs= RandomizedSearchCV(CatBoostClassifier(),\n",
    "                      param_distributions=g,\n",
    "                      n_iter=10,\n",
    "                      scoring=precision_score,\n",
    "                      cv=3,\n",
    "                      n_jobs=-1,\n",
    "                      verbose=False)\n",
    "gs.fit(Xnew,ynew)\n",
    "print('Best parameters for Decision Tree Classifier: ', gs.best_params_, '\\n')"
   ]
  },
  {
   "cell_type": "code",
   "execution_count": 512,
   "metadata": {},
   "outputs": [
    {
     "name": "stdout",
     "output_type": "stream",
     "text": [
      "Balanced Cat Boost Model Tuned:\n",
      "\n",
      "              precision    recall  f1-score   support\n",
      "\n",
      "           0       0.95      0.82      0.88    100195\n",
      "           1       0.34      0.66      0.45     14138\n",
      "\n",
      "    accuracy                           0.80    114333\n",
      "   macro avg       0.64      0.74      0.67    114333\n",
      "weighted avg       0.87      0.80      0.83    114333\n",
      "\n",
      "Training Accuracy:  0.8287 \tTesting Accuracy:  0.8017\n",
      "Training Precision: 0.6663 \tTesting Precision: 0.3439\n",
      "Training Recall:    0.784 \tTesting Recall:    0.6647\n"
     ]
    }
   ],
   "source": [
    "# Applying those parameters to tune the model\n",
    "cb_t= CatBoostClassifier(silent=True, learning_rate=0.01, iterations=300 ,depth=16)\n",
    "cb_t= cb_t.fit(Xnew,ynew)\n",
    "y_pred_cb_t= cb_t.predict(x_test)\n",
    "print('Balanced Cat Boost Model Tuned:\\n')\n",
    "print(classification_report(y_test,y_pred_cb_t))\n",
    "print('Training Accuracy: ', round(cb_t.score(Xnew,ynew),4),'\\tTesting Accuracy: ',round(cb_t.score(x_test,y_test),4))\n",
    "print('Training Precision:', round(precision_score(ynew,cb_t.predict(Xnew)),4),'\\tTesting Precision:',round(precision_score(y_test,y_pred_cb_t),4))\n",
    "print('Training Recall:   ', round(recall_score(ynew,cb_t.predict(Xnew)),4),'\\tTesting Recall:   ',round(recall_score(y_test,y_pred_cb_t),4))"
   ]
  },
  {
   "cell_type": "markdown",
   "metadata": {},
   "source": [
    "We can see that, the models are overfitting, so we tune the thresholds."
   ]
  },
  {
   "cell_type": "code",
   "execution_count": 464,
   "metadata": {},
   "outputs": [
    {
     "name": "stdout",
     "output_type": "stream",
     "text": [
      "0.0 0.2815\n",
      "0.1 0.5044\n",
      "0.2 0.5348\n",
      "0.3 0.5736\n",
      "0.4 0.6186\n",
      "0.5 0.6647\n",
      "0.6 0.7717\n",
      "0.7 0.9516\n",
      "0.8 0.9997\n",
      "0.9 1.0\n"
     ]
    }
   ],
   "source": [
    "pred_tr = cb_t.predict_proba(Xnew)[:,1]\n",
    "for j in np.arange(0,1,0.1):\n",
    "    custom_prob=j\n",
    "    custom_cutoff_data=[]\n",
    "    for i in range(0,len(ynew)):\n",
    "        if np.array(pred_tr[i]) > custom_prob:\n",
    "            a=1\n",
    "        else:\n",
    "            a=0\n",
    "        custom_cutoff_data.append(a)\n",
    "    print(round(custom_prob,6),round(precision_score(ynew,custom_cutoff_data),4))"
   ]
  },
  {
   "cell_type": "code",
   "execution_count": 458,
   "metadata": {},
   "outputs": [
    {
     "name": "stdout",
     "output_type": "stream",
     "text": [
      "0.0 1.0\n",
      "0.1 0.9956\n",
      "0.2 0.9814\n",
      "0.3 0.9449\n",
      "0.4 0.891\n",
      "0.5 0.7861\n",
      "0.6 0.5111\n",
      "0.7 0.1822\n",
      "0.8 0.0362\n",
      "0.9 0.0006\n"
     ]
    }
   ],
   "source": [
    "pred_tr = cb_t.predict_proba(Xnew)[:,1]\n",
    "for j in np.arange(0,1,0.1):\n",
    "    custom_prob=j\n",
    "    custom_cutoff_data=[]\n",
    "    for i in range(0,len(ynew)):\n",
    "        if np.array(pred_tr[i]) > custom_prob:\n",
    "            a=1\n",
    "        else:\n",
    "            a=0\n",
    "        custom_cutoff_data.append(a)\n",
    "    print(round(custom_prob,6),round(recall_score(ynew,custom_cutoff_data),4))"
   ]
  },
  {
   "cell_type": "code",
   "execution_count": 461,
   "metadata": {},
   "outputs": [
    {
     "name": "stdout",
     "output_type": "stream",
     "text": [
      "0.0 0.1237\n",
      "0.1 0.2491\n",
      "0.2 0.269\n",
      "0.3 0.2935\n",
      "0.4 0.3182\n",
      "0.5 0.3431\n",
      "0.6 0.3912\n",
      "0.7 0.4783\n",
      "0.8 0.25\n",
      "0.9 0.0\n"
     ]
    }
   ],
   "source": [
    "pred_te = cb_t.predict_proba(x_test)[:,1]\n",
    "for j in np.arange(0,1,0.1):\n",
    "    custom_prob=j\n",
    "    custom_cutoff_data=[]\n",
    "    for i in range(0,len(y_test)):\n",
    "        if np.array(pred_te[i]) > custom_prob:\n",
    "            a=1\n",
    "        else:\n",
    "            a=0\n",
    "        custom_cutoff_data.append(a)\n",
    "    print(round(custom_prob,3),round(precision_score(y_test,custom_cutoff_data),4))"
   ]
  },
  {
   "cell_type": "code",
   "execution_count": 462,
   "metadata": {},
   "outputs": [
    {
     "name": "stdout",
     "output_type": "stream",
     "text": [
      "0.0 1.0\n",
      "0.1 0.9849\n",
      "0.2 0.9624\n",
      "0.3 0.9011\n",
      "0.4 0.8081\n",
      "0.5 0.6683\n",
      "0.6 0.3398\n",
      "0.7 0.0351\n",
      "0.8 0.0001\n",
      "0.9 0.0\n"
     ]
    }
   ],
   "source": [
    "pred_te = cb_t.predict_proba(x_test)[:,1]\n",
    "for j in np.arange(0,1,0.1):\n",
    "    custom_prob=j\n",
    "    custom_cutoff_data=[]\n",
    "    for i in range(0,len(y_test)):\n",
    "        if np.array(pred_te[i]) > custom_prob:\n",
    "            a=1\n",
    "        else:\n",
    "            a=0\n",
    "        custom_cutoff_data.append(a)\n",
    "    print(round(custom_prob,3),round(recall_score(y_test,custom_cutoff_data),4))"
   ]
  },
  {
   "cell_type": "code",
   "execution_count": 466,
   "metadata": {},
   "outputs": [
    {
     "name": "stdout",
     "output_type": "stream",
     "text": [
      "AUC: 0.9126697592924208\n"
     ]
    },
    {
     "data": {
      "image/png": "[encoded data removed]",
      "text/plain": [
       "<Figure size 432x288 with 1 Axes>"
      ]
     },
     "metadata": {
      "needs_background": "light"
     },
     "output_type": "display_data"
    }
   ],
   "source": [
    "# Plotting the test set roc-curve\n",
    "y_prob_tr6 = cb_t.predict_proba(Xnew)[:,1]\n",
    "auc_tr6 = roc_auc_score(ynew,y_prob_tr6)\n",
    "fpr_tr6 , tpr_tr6, thr_tr6 = roc_curve(ynew,y_prob_tr6)\n",
    "print('AUC:',auc_tr6)\n",
    "plt.plot([0,1],[0,1],linestyle='--')\n",
    "plt.plot(fpr_tr6,tpr_tr6)\n",
    "plt.show()"
   ]
  },
  {
   "cell_type": "code",
   "execution_count": 559,
   "metadata": {},
   "outputs": [
    {
     "name": "stdout",
     "output_type": "stream",
     "text": [
      "AUC: 0.8561450563253402\n"
     ]
    },
    {
     "data": {
      "image/png": "[encoded data removed]",
      "text/plain": [
       "<Figure size 432x288 with 1 Axes>"
      ]
     },
     "metadata": {
      "needs_background": "light"
     },
     "output_type": "display_data"
    }
   ],
   "source": [
    "# Plotting the test set roc-curve\n",
    "y_prob_te6 = cb_t.predict_proba(x_test)[:,1]\n",
    "auc_te6 = roc_auc_score(y_test,y_prob_te6)\n",
    "fpr_te6 , tpr_te6, thr_te6 = roc_curve(y_test,y_prob_te6)\n",
    "print('AUC:',auc_te6)\n",
    "plt.plot([0,1],[0,1],linestyle='--')\n",
    "plt.plot(fpr_te6,tpr_te6)\n",
    "plt.xlabel('FPR')\n",
    "plt.ylabel('TPR')\n",
    "plt.title('Cat Boost ROC-Curve')\n",
    "plt.show()"
   ]
  },
  {
   "cell_type": "code",
   "execution_count": 469,
   "metadata": {},
   "outputs": [],
   "source": [
    "# Applying the best threshold obtained to the model\n",
    "y_train_pr6 = []\n",
    "for i in range(0,len(y_prob_tr6)):\n",
    "    if np.array(y_prob_tr6)[i] > 0.2:\n",
    "        a=1\n",
    "    else:\n",
    "        a=0\n",
    "    y_train_pr6.append(a)\n",
    "# Testing prediction\n",
    "y_test_pr6 = []\n",
    "for i in range(0,len(y_prob_te6)):\n",
    "    if np.array(y_prob_te6)[i]> 0.2:\n",
    "        b=1\n",
    "    else:\n",
    "        b=0\n",
    "    y_test_pr6.append(b)"
   ]
  },
  {
   "cell_type": "code",
   "execution_count": 513,
   "metadata": {},
   "outputs": [
    {
     "name": "stdout",
     "output_type": "stream",
     "text": [
      "Balanced Cat Boost Threshold Tuned:\n",
      "\n",
      "              precision    recall  f1-score   support\n",
      "\n",
      "           0       0.99      0.63      0.77    100195\n",
      "           1       0.27      0.96      0.42     14138\n",
      "\n",
      "    accuracy                           0.67    114333\n",
      "   macro avg       0.63      0.80      0.60    114333\n",
      "weighted avg       0.90      0.67      0.73    114333\n",
      "\n",
      "Training Accuracy:  0.8287 \tTesting Accuracy:  0.8017\n",
      "Training Precision: 0.2815 \tTesting Precision: 0.269\n",
      "Training Recall:    1.0 \tTesting Recall:    0.9624\n"
     ]
    }
   ],
   "source": [
    "print('Balanced Cat Boost Threshold Tuned:\\n')\n",
    "print(classification_report(y_test, y_test_pr6))\n",
    "print('Training Accuracy: ', round(cb_t.score(Xnew,ynew),4),'\\tTesting Accuracy: ',round(cb_t.score(x_test,y_test),4))\n",
    "print('Training Precision:', round(precision_score(ynew,y_train_pr6),4),'\\tTesting Precision:',round(precision_score(y_test,y_test_pr6),4))\n",
    "print('Training Recall:   ', round(recall_score(ynew,y_train_pr6),4),'\\tTesting Recall:   ',round(recall_score(y_test,y_test_pr6),4))"
   ]
  },
  {
   "cell_type": "markdown",
   "metadata": {},
   "source": [
    "Here, we can see that we have got the best fit scores in all Accuracy, Precision and Recall"
   ]
  },
  {
   "cell_type": "code",
   "execution_count": 561,
   "metadata": {},
   "outputs": [
    {
     "data": {
      "image/png": "[encoded data removed]",
      "text/plain": [
       "<Figure size 432x288 with 2 Axes>"
      ]
     },
     "metadata": {
      "needs_background": "light"
     },
     "output_type": "display_data"
    }
   ],
   "source": [
    "cmcbt_bal = confusion_matrix(y_test,y_test_pr6)\n",
    "sns.heatmap(cmcbt_bal,annot=True,fmt='g')\n",
    "plt.title('Cat Boost Confusion Matrix')\n",
    "plt.show()"
   ]
  },
  {
   "cell_type": "code",
   "execution_count": 523,
   "metadata": {},
   "outputs": [
    {
     "name": "stdout",
     "output_type": "stream",
     "text": [
      "0.4393\n",
      "0.4205\n"
     ]
    }
   ],
   "source": [
    "print(round(f1_score(ynew,y_train_pr6),4))\n",
    "print(round(f1_score(y_test,y_test_pr6),4))"
   ]
  },
  {
   "cell_type": "code",
   "execution_count": 525,
   "metadata": {},
   "outputs": [
    {
     "data": {
      "text/html": [
       "<div>\n",
       "<style scoped>\n",
       "    .dataframe tbody tr th:only-of-type {\n",
       "        vertical-align: middle;\n",
       "    }\n",
       "\n",
       "    .dataframe tbody tr th {\n",
       "        vertical-align: top;\n",
       "    }\n",
       "\n",
       "    .dataframe thead th {\n",
       "        text-align: right;\n",
       "    }\n",
       "</style>\n",
       "<table border=\"1\" class=\"dataframe\">\n",
       "  <thead>\n",
       "    <tr style=\"text-align: right;\">\n",
       "      <th></th>\n",
       "      <th>Features</th>\n",
       "      <th>Importance</th>\n",
       "    </tr>\n",
       "  </thead>\n",
       "  <tbody>\n",
       "    <tr>\n",
       "      <th>7</th>\n",
       "      <td>Previously_Insured_1</td>\n",
       "      <td>35.745004</td>\n",
       "    </tr>\n",
       "    <tr>\n",
       "      <th>1</th>\n",
       "      <td>Age</td>\n",
       "      <td>26.463712</td>\n",
       "    </tr>\n",
       "    <tr>\n",
       "      <th>3</th>\n",
       "      <td>Vehicle_Damage</td>\n",
       "      <td>9.838991</td>\n",
       "    </tr>\n",
       "    <tr>\n",
       "      <th>2</th>\n",
       "      <td>Region_Code</td>\n",
       "      <td>7.672974</td>\n",
       "    </tr>\n",
       "    <tr>\n",
       "      <th>4</th>\n",
       "      <td>Annual_Premium</td>\n",
       "      <td>7.636899</td>\n",
       "    </tr>\n",
       "    <tr>\n",
       "      <th>5</th>\n",
       "      <td>Policy_Sales_Channel</td>\n",
       "      <td>7.369432</td>\n",
       "    </tr>\n",
       "    <tr>\n",
       "      <th>0</th>\n",
       "      <td>Gender</td>\n",
       "      <td>3.953082</td>\n",
       "    </tr>\n",
       "    <tr>\n",
       "      <th>8</th>\n",
       "      <td>New_vehicles</td>\n",
       "      <td>0.802547</td>\n",
       "    </tr>\n",
       "    <tr>\n",
       "      <th>9</th>\n",
       "      <td>Old_vehicles</td>\n",
       "      <td>0.409460</td>\n",
       "    </tr>\n",
       "    <tr>\n",
       "      <th>6</th>\n",
       "      <td>Driving_License_1</td>\n",
       "      <td>0.107900</td>\n",
       "    </tr>\n",
       "  </tbody>\n",
       "</table>\n",
       "</div>"
      ],
      "text/plain": [
       "               Features  Importance\n",
       "7  Previously_Insured_1   35.745004\n",
       "1                   Age   26.463712\n",
       "3        Vehicle_Damage    9.838991\n",
       "2           Region_Code    7.672974\n",
       "4        Annual_Premium    7.636899\n",
       "5  Policy_Sales_Channel    7.369432\n",
       "0                Gender    3.953082\n",
       "8          New_vehicles    0.802547\n",
       "9          Old_vehicles    0.409460\n",
       "6     Driving_License_1    0.107900"
      ]
     },
     "execution_count": 525,
     "metadata": {},
     "output_type": "execute_result"
    }
   ],
   "source": [
    "# Finding the feature importance\n",
    "important_features = pd.DataFrame({'Features': Xnew.columns, \n",
    "                                   'Importance': cb_t.feature_importances_})\n",
    "\n",
    "# print the dataframe\n",
    "important_features.sort_values(by='Importance', ascending=False, inplace=True)\n",
    "important_features"
   ]
  },
  {
   "cell_type": "code",
   "execution_count": 585,
   "metadata": {},
   "outputs": [
    {
     "data": {
      "image/png": "[encoded data removed]",
      "text/plain": [
       "<Figure size 432x288 with 1 Axes>"
      ]
     },
     "metadata": {
      "needs_background": "light"
     },
     "output_type": "display_data"
    }
   ],
   "source": [
    "# Plotting the feature importances\n",
    "sns.barplot(x = 'Importance', y = 'Features', data = important_features, palette='Spectral')\n",
    "\n",
    "# add plot and axes labels\n",
    "# set text size using 'fontsize'\n",
    "plt.title('Feature Importance', fontsize = 12)\n",
    "plt.xlabel('Importance', fontsize = 12)\n",
    "plt.ylabel('Features', fontsize = 12)\n",
    "plt.show()"
   ]
  },
  {
   "cell_type": "code",
   "execution_count": 530,
   "metadata": {},
   "outputs": [
    {
     "data": {
      "text/html": [
       "<div>\n",
       "<style scoped>\n",
       "    .dataframe tbody tr th:only-of-type {\n",
       "        vertical-align: middle;\n",
       "    }\n",
       "\n",
       "    .dataframe tbody tr th {\n",
       "        vertical-align: top;\n",
       "    }\n",
       "\n",
       "    .dataframe thead th {\n",
       "        text-align: right;\n",
       "    }\n",
       "</style>\n",
       "<table border=\"1\" class=\"dataframe\">\n",
       "  <thead>\n",
       "    <tr style=\"text-align: right;\">\n",
       "      <th></th>\n",
       "      <th>Predicted 0</th>\n",
       "      <th>Predicted 1</th>\n",
       "    </tr>\n",
       "  </thead>\n",
       "  <tbody>\n",
       "    <tr>\n",
       "      <th>Actual 0</th>\n",
       "      <td>63221</td>\n",
       "      <td>36974</td>\n",
       "    </tr>\n",
       "    <tr>\n",
       "      <th>Actual 1</th>\n",
       "      <td>531</td>\n",
       "      <td>13607</td>\n",
       "    </tr>\n",
       "  </tbody>\n",
       "</table>\n",
       "</div>"
      ],
      "text/plain": [
       "          Predicted 0  Predicted 1\n",
       "Actual 0        63221        36974\n",
       "Actual 1          531        13607"
      ]
     },
     "execution_count": 530,
     "metadata": {},
     "output_type": "execute_result"
    }
   ],
   "source": [
    "# The confusion matrix as a dataframe\n",
    "cm = confusion_matrix(y_test,y_test_pr6)\n",
    "pd.DataFrame(cm, columns={'Predicted 0':cm[0][0],'Predicted 1':cm[0][1]},index=['Actual 0','Actual 1'])"
   ]
  },
  {
   "cell_type": "code",
   "execution_count": 531,
   "metadata": {},
   "outputs": [
    {
     "data": {
      "text/plain": [
       "array([[63221, 36974],\n",
       "       [  531, 13607]], dtype=int64)"
      ]
     },
     "execution_count": 531,
     "metadata": {},
     "output_type": "execute_result"
    }
   ],
   "source": [
    "cm"
   ]
  },
  {
   "cell_type": "code",
   "execution_count": 565,
   "metadata": {},
   "outputs": [
    {
     "data": {
      "image/png": "[encoded data removed]",
      "text/plain": [
       "<Figure size 432x288 with 2 Axes>"
      ]
     },
     "metadata": {
      "needs_background": "light"
     },
     "output_type": "display_data"
    }
   ],
   "source": [
    "# The confusion matrix of the best model obtained\n",
    "plt.figure(figsize=(6,4))\n",
    "sns.heatmap(cm,annot=True,cmap='coolwarm_r',fmt='g')\n",
    "plt.xlabel('Predicted')\n",
    "plt.ylabel('Actual')\n",
    "plt.title('Cat Boost Confusion Matrix')\n",
    "plt.yticks(rotation=0)\n",
    "plt.show()"
   ]
  }
 ],
 "metadata": {
  "kernelspec": {
   "display_name": "Python 3",
   "language": "python",
   "name": "python3"
  },
  "language_info": {
   "codemirror_mode": {
    "name": "ipython",
    "version": 3
   },
   "file_extension": ".py",
   "mimetype": "text/x-python",
   "name": "python",
   "nbconvert_exporter": "python",
   "pygments_lexer": "ipython3",
   "version": "3.8.5"
  }
 },
 "nbformat": 4,
 "nbformat_minor": 4
}
